{
 "cells": [
  {
   "cell_type": "code",
   "execution_count": 1,
   "metadata": {
    "collapsed": false
   },
   "outputs": [],
   "source": [
    "import pandas as pd\n",
    "%matplotlib inline\n"
   ]
  },
  {
   "cell_type": "code",
   "execution_count": 2,
   "metadata": {
    "collapsed": true
   },
   "outputs": [],
   "source": [
    "recent_grads = pd.read_csv('recent-grads.csv')"
   ]
  },
  {
   "cell_type": "code",
   "execution_count": 3,
   "metadata": {
    "collapsed": false
   },
   "outputs": [
    {
     "data": {
      "text/plain": [
       "Rank                                        1\n",
       "Major_code                               2419\n",
       "Major                   PETROLEUM ENGINEERING\n",
       "Total                                    2339\n",
       "Men                                      2057\n",
       "Women                                     282\n",
       "Major_category                    Engineering\n",
       "ShareWomen                           0.120564\n",
       "Sample_size                                36\n",
       "Employed                                 1976\n",
       "Full_time                                1849\n",
       "Part_time                                 270\n",
       "Full_time_year_round                     1207\n",
       "Unemployed                                 37\n",
       "Unemployment_rate                   0.0183805\n",
       "Median                                 110000\n",
       "P25th                                   95000\n",
       "P75th                                  125000\n",
       "College_jobs                             1534\n",
       "Non_college_jobs                          364\n",
       "Low_wage_jobs                             193\n",
       "Name: 0, dtype: object"
      ]
     },
     "execution_count": 3,
     "metadata": {},
     "output_type": "execute_result"
    }
   ],
   "source": [
    "recent_grads.iloc[0]"
   ]
  },
  {
   "cell_type": "code",
   "execution_count": 4,
   "metadata": {
    "collapsed": false
   },
   "outputs": [
    {
     "data": {
      "text/html": [
       "<div>\n",
       "<style scoped>\n",
       "    .dataframe tbody tr th:only-of-type {\n",
       "        vertical-align: middle;\n",
       "    }\n",
       "\n",
       "    .dataframe tbody tr th {\n",
       "        vertical-align: top;\n",
       "    }\n",
       "\n",
       "    .dataframe thead th {\n",
       "        text-align: right;\n",
       "    }\n",
       "</style>\n",
       "<table border=\"1\" class=\"dataframe\">\n",
       "  <thead>\n",
       "    <tr style=\"text-align: right;\">\n",
       "      <th></th>\n",
       "      <th>Rank</th>\n",
       "      <th>Major_code</th>\n",
       "      <th>Major</th>\n",
       "      <th>Total</th>\n",
       "      <th>Men</th>\n",
       "      <th>Women</th>\n",
       "      <th>Major_category</th>\n",
       "      <th>ShareWomen</th>\n",
       "      <th>Sample_size</th>\n",
       "      <th>Employed</th>\n",
       "      <th>...</th>\n",
       "      <th>Part_time</th>\n",
       "      <th>Full_time_year_round</th>\n",
       "      <th>Unemployed</th>\n",
       "      <th>Unemployment_rate</th>\n",
       "      <th>Median</th>\n",
       "      <th>P25th</th>\n",
       "      <th>P75th</th>\n",
       "      <th>College_jobs</th>\n",
       "      <th>Non_college_jobs</th>\n",
       "      <th>Low_wage_jobs</th>\n",
       "    </tr>\n",
       "  </thead>\n",
       "  <tbody>\n",
       "    <tr>\n",
       "      <th>0</th>\n",
       "      <td>1</td>\n",
       "      <td>2419</td>\n",
       "      <td>PETROLEUM ENGINEERING</td>\n",
       "      <td>2339.0</td>\n",
       "      <td>2057.0</td>\n",
       "      <td>282.0</td>\n",
       "      <td>Engineering</td>\n",
       "      <td>0.120564</td>\n",
       "      <td>36</td>\n",
       "      <td>1976</td>\n",
       "      <td>...</td>\n",
       "      <td>270</td>\n",
       "      <td>1207</td>\n",
       "      <td>37</td>\n",
       "      <td>0.018381</td>\n",
       "      <td>110000</td>\n",
       "      <td>95000</td>\n",
       "      <td>125000</td>\n",
       "      <td>1534</td>\n",
       "      <td>364</td>\n",
       "      <td>193</td>\n",
       "    </tr>\n",
       "    <tr>\n",
       "      <th>1</th>\n",
       "      <td>2</td>\n",
       "      <td>2416</td>\n",
       "      <td>MINING AND MINERAL ENGINEERING</td>\n",
       "      <td>756.0</td>\n",
       "      <td>679.0</td>\n",
       "      <td>77.0</td>\n",
       "      <td>Engineering</td>\n",
       "      <td>0.101852</td>\n",
       "      <td>7</td>\n",
       "      <td>640</td>\n",
       "      <td>...</td>\n",
       "      <td>170</td>\n",
       "      <td>388</td>\n",
       "      <td>85</td>\n",
       "      <td>0.117241</td>\n",
       "      <td>75000</td>\n",
       "      <td>55000</td>\n",
       "      <td>90000</td>\n",
       "      <td>350</td>\n",
       "      <td>257</td>\n",
       "      <td>50</td>\n",
       "    </tr>\n",
       "    <tr>\n",
       "      <th>2</th>\n",
       "      <td>3</td>\n",
       "      <td>2415</td>\n",
       "      <td>METALLURGICAL ENGINEERING</td>\n",
       "      <td>856.0</td>\n",
       "      <td>725.0</td>\n",
       "      <td>131.0</td>\n",
       "      <td>Engineering</td>\n",
       "      <td>0.153037</td>\n",
       "      <td>3</td>\n",
       "      <td>648</td>\n",
       "      <td>...</td>\n",
       "      <td>133</td>\n",
       "      <td>340</td>\n",
       "      <td>16</td>\n",
       "      <td>0.024096</td>\n",
       "      <td>73000</td>\n",
       "      <td>50000</td>\n",
       "      <td>105000</td>\n",
       "      <td>456</td>\n",
       "      <td>176</td>\n",
       "      <td>0</td>\n",
       "    </tr>\n",
       "    <tr>\n",
       "      <th>3</th>\n",
       "      <td>4</td>\n",
       "      <td>2417</td>\n",
       "      <td>NAVAL ARCHITECTURE AND MARINE ENGINEERING</td>\n",
       "      <td>1258.0</td>\n",
       "      <td>1123.0</td>\n",
       "      <td>135.0</td>\n",
       "      <td>Engineering</td>\n",
       "      <td>0.107313</td>\n",
       "      <td>16</td>\n",
       "      <td>758</td>\n",
       "      <td>...</td>\n",
       "      <td>150</td>\n",
       "      <td>692</td>\n",
       "      <td>40</td>\n",
       "      <td>0.050125</td>\n",
       "      <td>70000</td>\n",
       "      <td>43000</td>\n",
       "      <td>80000</td>\n",
       "      <td>529</td>\n",
       "      <td>102</td>\n",
       "      <td>0</td>\n",
       "    </tr>\n",
       "    <tr>\n",
       "      <th>4</th>\n",
       "      <td>5</td>\n",
       "      <td>2405</td>\n",
       "      <td>CHEMICAL ENGINEERING</td>\n",
       "      <td>32260.0</td>\n",
       "      <td>21239.0</td>\n",
       "      <td>11021.0</td>\n",
       "      <td>Engineering</td>\n",
       "      <td>0.341631</td>\n",
       "      <td>289</td>\n",
       "      <td>25694</td>\n",
       "      <td>...</td>\n",
       "      <td>5180</td>\n",
       "      <td>16697</td>\n",
       "      <td>1672</td>\n",
       "      <td>0.061098</td>\n",
       "      <td>65000</td>\n",
       "      <td>50000</td>\n",
       "      <td>75000</td>\n",
       "      <td>18314</td>\n",
       "      <td>4440</td>\n",
       "      <td>972</td>\n",
       "    </tr>\n",
       "  </tbody>\n",
       "</table>\n",
       "<p>5 rows × 21 columns</p>\n",
       "</div>"
      ],
      "text/plain": [
       "   Rank  Major_code                                      Major    Total  \\\n",
       "0     1        2419                      PETROLEUM ENGINEERING   2339.0   \n",
       "1     2        2416             MINING AND MINERAL ENGINEERING    756.0   \n",
       "2     3        2415                  METALLURGICAL ENGINEERING    856.0   \n",
       "3     4        2417  NAVAL ARCHITECTURE AND MARINE ENGINEERING   1258.0   \n",
       "4     5        2405                       CHEMICAL ENGINEERING  32260.0   \n",
       "\n",
       "       Men    Women Major_category  ShareWomen  Sample_size  Employed  \\\n",
       "0   2057.0    282.0    Engineering    0.120564           36      1976   \n",
       "1    679.0     77.0    Engineering    0.101852            7       640   \n",
       "2    725.0    131.0    Engineering    0.153037            3       648   \n",
       "3   1123.0    135.0    Engineering    0.107313           16       758   \n",
       "4  21239.0  11021.0    Engineering    0.341631          289     25694   \n",
       "\n",
       "       ...        Part_time  Full_time_year_round  Unemployed  \\\n",
       "0      ...              270                  1207          37   \n",
       "1      ...              170                   388          85   \n",
       "2      ...              133                   340          16   \n",
       "3      ...              150                   692          40   \n",
       "4      ...             5180                 16697        1672   \n",
       "\n",
       "   Unemployment_rate  Median  P25th   P75th  College_jobs  Non_college_jobs  \\\n",
       "0           0.018381  110000  95000  125000          1534               364   \n",
       "1           0.117241   75000  55000   90000           350               257   \n",
       "2           0.024096   73000  50000  105000           456               176   \n",
       "3           0.050125   70000  43000   80000           529               102   \n",
       "4           0.061098   65000  50000   75000         18314              4440   \n",
       "\n",
       "   Low_wage_jobs  \n",
       "0            193  \n",
       "1             50  \n",
       "2              0  \n",
       "3              0  \n",
       "4            972  \n",
       "\n",
       "[5 rows x 21 columns]"
      ]
     },
     "execution_count": 4,
     "metadata": {},
     "output_type": "execute_result"
    }
   ],
   "source": [
    "recent_grads.head()"
   ]
  },
  {
   "cell_type": "code",
   "execution_count": 5,
   "metadata": {
    "collapsed": false
   },
   "outputs": [
    {
     "data": {
      "text/html": [
       "<div>\n",
       "<style scoped>\n",
       "    .dataframe tbody tr th:only-of-type {\n",
       "        vertical-align: middle;\n",
       "    }\n",
       "\n",
       "    .dataframe tbody tr th {\n",
       "        vertical-align: top;\n",
       "    }\n",
       "\n",
       "    .dataframe thead th {\n",
       "        text-align: right;\n",
       "    }\n",
       "</style>\n",
       "<table border=\"1\" class=\"dataframe\">\n",
       "  <thead>\n",
       "    <tr style=\"text-align: right;\">\n",
       "      <th></th>\n",
       "      <th>Rank</th>\n",
       "      <th>Major_code</th>\n",
       "      <th>Total</th>\n",
       "      <th>Men</th>\n",
       "      <th>Women</th>\n",
       "      <th>ShareWomen</th>\n",
       "      <th>Sample_size</th>\n",
       "      <th>Employed</th>\n",
       "      <th>Full_time</th>\n",
       "      <th>Part_time</th>\n",
       "      <th>Full_time_year_round</th>\n",
       "      <th>Unemployed</th>\n",
       "      <th>Unemployment_rate</th>\n",
       "      <th>Median</th>\n",
       "      <th>P25th</th>\n",
       "      <th>P75th</th>\n",
       "      <th>College_jobs</th>\n",
       "      <th>Non_college_jobs</th>\n",
       "      <th>Low_wage_jobs</th>\n",
       "    </tr>\n",
       "  </thead>\n",
       "  <tbody>\n",
       "    <tr>\n",
       "      <th>count</th>\n",
       "      <td>173.000000</td>\n",
       "      <td>173.000000</td>\n",
       "      <td>172.000000</td>\n",
       "      <td>172.000000</td>\n",
       "      <td>172.000000</td>\n",
       "      <td>172.000000</td>\n",
       "      <td>173.000000</td>\n",
       "      <td>173.000000</td>\n",
       "      <td>173.000000</td>\n",
       "      <td>173.000000</td>\n",
       "      <td>173.000000</td>\n",
       "      <td>173.000000</td>\n",
       "      <td>173.000000</td>\n",
       "      <td>173.000000</td>\n",
       "      <td>173.000000</td>\n",
       "      <td>173.000000</td>\n",
       "      <td>173.000000</td>\n",
       "      <td>173.000000</td>\n",
       "      <td>173.000000</td>\n",
       "    </tr>\n",
       "    <tr>\n",
       "      <th>mean</th>\n",
       "      <td>87.000000</td>\n",
       "      <td>3879.815029</td>\n",
       "      <td>39370.081395</td>\n",
       "      <td>16723.406977</td>\n",
       "      <td>22646.674419</td>\n",
       "      <td>0.522223</td>\n",
       "      <td>356.080925</td>\n",
       "      <td>31192.763006</td>\n",
       "      <td>26029.306358</td>\n",
       "      <td>8832.398844</td>\n",
       "      <td>19694.427746</td>\n",
       "      <td>2416.329480</td>\n",
       "      <td>0.068191</td>\n",
       "      <td>40151.445087</td>\n",
       "      <td>29501.445087</td>\n",
       "      <td>51494.219653</td>\n",
       "      <td>12322.635838</td>\n",
       "      <td>13284.497110</td>\n",
       "      <td>3859.017341</td>\n",
       "    </tr>\n",
       "    <tr>\n",
       "      <th>std</th>\n",
       "      <td>50.084928</td>\n",
       "      <td>1687.753140</td>\n",
       "      <td>63483.491009</td>\n",
       "      <td>28122.433474</td>\n",
       "      <td>41057.330740</td>\n",
       "      <td>0.231205</td>\n",
       "      <td>618.361022</td>\n",
       "      <td>50675.002241</td>\n",
       "      <td>42869.655092</td>\n",
       "      <td>14648.179473</td>\n",
       "      <td>33160.941514</td>\n",
       "      <td>4112.803148</td>\n",
       "      <td>0.030331</td>\n",
       "      <td>11470.181802</td>\n",
       "      <td>9166.005235</td>\n",
       "      <td>14906.279740</td>\n",
       "      <td>21299.868863</td>\n",
       "      <td>23789.655363</td>\n",
       "      <td>6944.998579</td>\n",
       "    </tr>\n",
       "    <tr>\n",
       "      <th>min</th>\n",
       "      <td>1.000000</td>\n",
       "      <td>1100.000000</td>\n",
       "      <td>124.000000</td>\n",
       "      <td>119.000000</td>\n",
       "      <td>0.000000</td>\n",
       "      <td>0.000000</td>\n",
       "      <td>2.000000</td>\n",
       "      <td>0.000000</td>\n",
       "      <td>111.000000</td>\n",
       "      <td>0.000000</td>\n",
       "      <td>111.000000</td>\n",
       "      <td>0.000000</td>\n",
       "      <td>0.000000</td>\n",
       "      <td>22000.000000</td>\n",
       "      <td>18500.000000</td>\n",
       "      <td>22000.000000</td>\n",
       "      <td>0.000000</td>\n",
       "      <td>0.000000</td>\n",
       "      <td>0.000000</td>\n",
       "    </tr>\n",
       "    <tr>\n",
       "      <th>25%</th>\n",
       "      <td>44.000000</td>\n",
       "      <td>2403.000000</td>\n",
       "      <td>4549.750000</td>\n",
       "      <td>2177.500000</td>\n",
       "      <td>1778.250000</td>\n",
       "      <td>0.336026</td>\n",
       "      <td>39.000000</td>\n",
       "      <td>3608.000000</td>\n",
       "      <td>3154.000000</td>\n",
       "      <td>1030.000000</td>\n",
       "      <td>2453.000000</td>\n",
       "      <td>304.000000</td>\n",
       "      <td>0.050306</td>\n",
       "      <td>33000.000000</td>\n",
       "      <td>24000.000000</td>\n",
       "      <td>42000.000000</td>\n",
       "      <td>1675.000000</td>\n",
       "      <td>1591.000000</td>\n",
       "      <td>340.000000</td>\n",
       "    </tr>\n",
       "    <tr>\n",
       "      <th>50%</th>\n",
       "      <td>87.000000</td>\n",
       "      <td>3608.000000</td>\n",
       "      <td>15104.000000</td>\n",
       "      <td>5434.000000</td>\n",
       "      <td>8386.500000</td>\n",
       "      <td>0.534024</td>\n",
       "      <td>130.000000</td>\n",
       "      <td>11797.000000</td>\n",
       "      <td>10048.000000</td>\n",
       "      <td>3299.000000</td>\n",
       "      <td>7413.000000</td>\n",
       "      <td>893.000000</td>\n",
       "      <td>0.067961</td>\n",
       "      <td>36000.000000</td>\n",
       "      <td>27000.000000</td>\n",
       "      <td>47000.000000</td>\n",
       "      <td>4390.000000</td>\n",
       "      <td>4595.000000</td>\n",
       "      <td>1231.000000</td>\n",
       "    </tr>\n",
       "    <tr>\n",
       "      <th>75%</th>\n",
       "      <td>130.000000</td>\n",
       "      <td>5503.000000</td>\n",
       "      <td>38909.750000</td>\n",
       "      <td>14631.000000</td>\n",
       "      <td>22553.750000</td>\n",
       "      <td>0.703299</td>\n",
       "      <td>338.000000</td>\n",
       "      <td>31433.000000</td>\n",
       "      <td>25147.000000</td>\n",
       "      <td>9948.000000</td>\n",
       "      <td>16891.000000</td>\n",
       "      <td>2393.000000</td>\n",
       "      <td>0.087557</td>\n",
       "      <td>45000.000000</td>\n",
       "      <td>33000.000000</td>\n",
       "      <td>60000.000000</td>\n",
       "      <td>14444.000000</td>\n",
       "      <td>11783.000000</td>\n",
       "      <td>3466.000000</td>\n",
       "    </tr>\n",
       "    <tr>\n",
       "      <th>max</th>\n",
       "      <td>173.000000</td>\n",
       "      <td>6403.000000</td>\n",
       "      <td>393735.000000</td>\n",
       "      <td>173809.000000</td>\n",
       "      <td>307087.000000</td>\n",
       "      <td>0.968954</td>\n",
       "      <td>4212.000000</td>\n",
       "      <td>307933.000000</td>\n",
       "      <td>251540.000000</td>\n",
       "      <td>115172.000000</td>\n",
       "      <td>199897.000000</td>\n",
       "      <td>28169.000000</td>\n",
       "      <td>0.177226</td>\n",
       "      <td>110000.000000</td>\n",
       "      <td>95000.000000</td>\n",
       "      <td>125000.000000</td>\n",
       "      <td>151643.000000</td>\n",
       "      <td>148395.000000</td>\n",
       "      <td>48207.000000</td>\n",
       "    </tr>\n",
       "  </tbody>\n",
       "</table>\n",
       "</div>"
      ],
      "text/plain": [
       "             Rank   Major_code          Total            Men          Women  \\\n",
       "count  173.000000   173.000000     172.000000     172.000000     172.000000   \n",
       "mean    87.000000  3879.815029   39370.081395   16723.406977   22646.674419   \n",
       "std     50.084928  1687.753140   63483.491009   28122.433474   41057.330740   \n",
       "min      1.000000  1100.000000     124.000000     119.000000       0.000000   \n",
       "25%     44.000000  2403.000000    4549.750000    2177.500000    1778.250000   \n",
       "50%     87.000000  3608.000000   15104.000000    5434.000000    8386.500000   \n",
       "75%    130.000000  5503.000000   38909.750000   14631.000000   22553.750000   \n",
       "max    173.000000  6403.000000  393735.000000  173809.000000  307087.000000   \n",
       "\n",
       "       ShareWomen  Sample_size       Employed      Full_time      Part_time  \\\n",
       "count  172.000000   173.000000     173.000000     173.000000     173.000000   \n",
       "mean     0.522223   356.080925   31192.763006   26029.306358    8832.398844   \n",
       "std      0.231205   618.361022   50675.002241   42869.655092   14648.179473   \n",
       "min      0.000000     2.000000       0.000000     111.000000       0.000000   \n",
       "25%      0.336026    39.000000    3608.000000    3154.000000    1030.000000   \n",
       "50%      0.534024   130.000000   11797.000000   10048.000000    3299.000000   \n",
       "75%      0.703299   338.000000   31433.000000   25147.000000    9948.000000   \n",
       "max      0.968954  4212.000000  307933.000000  251540.000000  115172.000000   \n",
       "\n",
       "       Full_time_year_round    Unemployed  Unemployment_rate         Median  \\\n",
       "count            173.000000    173.000000         173.000000     173.000000   \n",
       "mean           19694.427746   2416.329480           0.068191   40151.445087   \n",
       "std            33160.941514   4112.803148           0.030331   11470.181802   \n",
       "min              111.000000      0.000000           0.000000   22000.000000   \n",
       "25%             2453.000000    304.000000           0.050306   33000.000000   \n",
       "50%             7413.000000    893.000000           0.067961   36000.000000   \n",
       "75%            16891.000000   2393.000000           0.087557   45000.000000   \n",
       "max           199897.000000  28169.000000           0.177226  110000.000000   \n",
       "\n",
       "              P25th          P75th   College_jobs  Non_college_jobs  \\\n",
       "count    173.000000     173.000000     173.000000        173.000000   \n",
       "mean   29501.445087   51494.219653   12322.635838      13284.497110   \n",
       "std     9166.005235   14906.279740   21299.868863      23789.655363   \n",
       "min    18500.000000   22000.000000       0.000000          0.000000   \n",
       "25%    24000.000000   42000.000000    1675.000000       1591.000000   \n",
       "50%    27000.000000   47000.000000    4390.000000       4595.000000   \n",
       "75%    33000.000000   60000.000000   14444.000000      11783.000000   \n",
       "max    95000.000000  125000.000000  151643.000000     148395.000000   \n",
       "\n",
       "       Low_wage_jobs  \n",
       "count     173.000000  \n",
       "mean     3859.017341  \n",
       "std      6944.998579  \n",
       "min         0.000000  \n",
       "25%       340.000000  \n",
       "50%      1231.000000  \n",
       "75%      3466.000000  \n",
       "max     48207.000000  "
      ]
     },
     "execution_count": 5,
     "metadata": {},
     "output_type": "execute_result"
    }
   ],
   "source": [
    "recent_grads.describe()"
   ]
  },
  {
   "cell_type": "code",
   "execution_count": 6,
   "metadata": {
    "collapsed": false
   },
   "outputs": [],
   "source": [
    "row_no_want = recent_grads.loc[recent_grads.isnull().any(axis=1),:]"
   ]
  },
  {
   "cell_type": "code",
   "execution_count": 7,
   "metadata": {
    "collapsed": false
   },
   "outputs": [
    {
     "data": {
      "text/html": [
       "<div>\n",
       "<style scoped>\n",
       "    .dataframe tbody tr th:only-of-type {\n",
       "        vertical-align: middle;\n",
       "    }\n",
       "\n",
       "    .dataframe tbody tr th {\n",
       "        vertical-align: top;\n",
       "    }\n",
       "\n",
       "    .dataframe thead th {\n",
       "        text-align: right;\n",
       "    }\n",
       "</style>\n",
       "<table border=\"1\" class=\"dataframe\">\n",
       "  <thead>\n",
       "    <tr style=\"text-align: right;\">\n",
       "      <th></th>\n",
       "      <th>Rank</th>\n",
       "      <th>Major_code</th>\n",
       "      <th>Major</th>\n",
       "      <th>Total</th>\n",
       "      <th>Men</th>\n",
       "      <th>Women</th>\n",
       "      <th>Major_category</th>\n",
       "      <th>ShareWomen</th>\n",
       "      <th>Sample_size</th>\n",
       "      <th>Employed</th>\n",
       "      <th>...</th>\n",
       "      <th>Part_time</th>\n",
       "      <th>Full_time_year_round</th>\n",
       "      <th>Unemployed</th>\n",
       "      <th>Unemployment_rate</th>\n",
       "      <th>Median</th>\n",
       "      <th>P25th</th>\n",
       "      <th>P75th</th>\n",
       "      <th>College_jobs</th>\n",
       "      <th>Non_college_jobs</th>\n",
       "      <th>Low_wage_jobs</th>\n",
       "    </tr>\n",
       "  </thead>\n",
       "  <tbody>\n",
       "    <tr>\n",
       "      <th>21</th>\n",
       "      <td>22</td>\n",
       "      <td>1104</td>\n",
       "      <td>FOOD SCIENCE</td>\n",
       "      <td>NaN</td>\n",
       "      <td>NaN</td>\n",
       "      <td>NaN</td>\n",
       "      <td>Agriculture &amp; Natural Resources</td>\n",
       "      <td>NaN</td>\n",
       "      <td>36</td>\n",
       "      <td>3149</td>\n",
       "      <td>...</td>\n",
       "      <td>1121</td>\n",
       "      <td>1735</td>\n",
       "      <td>338</td>\n",
       "      <td>0.096931</td>\n",
       "      <td>53000</td>\n",
       "      <td>32000</td>\n",
       "      <td>70000</td>\n",
       "      <td>1183</td>\n",
       "      <td>1274</td>\n",
       "      <td>485</td>\n",
       "    </tr>\n",
       "  </tbody>\n",
       "</table>\n",
       "<p>1 rows × 21 columns</p>\n",
       "</div>"
      ],
      "text/plain": [
       "    Rank  Major_code         Major  Total  Men  Women  \\\n",
       "21    22        1104  FOOD SCIENCE    NaN  NaN    NaN   \n",
       "\n",
       "                     Major_category  ShareWomen  Sample_size  Employed  \\\n",
       "21  Agriculture & Natural Resources         NaN           36      3149   \n",
       "\n",
       "        ...        Part_time  Full_time_year_round  Unemployed  \\\n",
       "21      ...             1121                  1735         338   \n",
       "\n",
       "    Unemployment_rate  Median  P25th  P75th  College_jobs  Non_college_jobs  \\\n",
       "21           0.096931   53000  32000  70000          1183              1274   \n",
       "\n",
       "    Low_wage_jobs  \n",
       "21            485  \n",
       "\n",
       "[1 rows x 21 columns]"
      ]
     },
     "execution_count": 7,
     "metadata": {},
     "output_type": "execute_result"
    }
   ],
   "source": [
    "row_no_want"
   ]
  },
  {
   "cell_type": "code",
   "execution_count": 8,
   "metadata": {
    "collapsed": true
   },
   "outputs": [],
   "source": [
    "raw_data_count = len(recent_grads)"
   ]
  },
  {
   "cell_type": "code",
   "execution_count": 9,
   "metadata": {
    "collapsed": false
   },
   "outputs": [
    {
     "data": {
      "text/plain": [
       "173"
      ]
     },
     "execution_count": 9,
     "metadata": {},
     "output_type": "execute_result"
    }
   ],
   "source": [
    "raw_data_count"
   ]
  },
  {
   "cell_type": "code",
   "execution_count": 10,
   "metadata": {
    "collapsed": true
   },
   "outputs": [],
   "source": [
    "recent_grads = recent_grads.dropna()"
   ]
  },
  {
   "cell_type": "code",
   "execution_count": 11,
   "metadata": {
    "collapsed": false
   },
   "outputs": [],
   "source": [
    "cleaned_data_count = len(recent_grads)"
   ]
  },
  {
   "cell_type": "code",
   "execution_count": 12,
   "metadata": {
    "collapsed": false
   },
   "outputs": [
    {
     "data": {
      "text/plain": [
       "<matplotlib.axes._subplots.AxesSubplot at 0x7fcb2d2a8ef0>"
      ]
     },
     "execution_count": 12,
     "metadata": {},
     "output_type": "execute_result"
    },
    {
     "data": {
      "image/png": "[encoded data removed]",
      "text/plain": [
       "<matplotlib.figure.Figure at 0x7fcb2d2621d0>"
      ]
     },
     "metadata": {},
     "output_type": "display_data"
    }
   ],
   "source": [
    "recent_grads.plot(x='Sample_size', y='Median',kind='scatter'\n",
    "                 ,title='Sample_size vs Median', figsize=(5,10))"
   ]
  },
  {
   "cell_type": "code",
   "execution_count": 13,
   "metadata": {
    "collapsed": false
   },
   "outputs": [
    {
     "data": {
      "text/plain": [
       "<matplotlib.axes._subplots.AxesSubplot at 0x7fcb2b05af98>"
      ]
     },
     "execution_count": 13,
     "metadata": {},
     "output_type": "execute_result"
    },
    {
     "data": {
      "image/png": "[encoded data removed]",
      "text/plain": [
       "<matplotlib.figure.Figure at 0x7fcb78361978>"
      ]
     },
     "metadata": {},
     "output_type": "display_data"
    }
   ],
   "source": [
    "recent_grads.plot(x='Sample_size', y='Unemployment_rate', kind='scatter', title='Sample_size vs Unemployment_rate', figsize=(5,10))"
   ]
  },
  {
   "cell_type": "code",
   "execution_count": 14,
   "metadata": {
    "collapsed": false
   },
   "outputs": [
    {
     "data": {
      "text/plain": [
       "<matplotlib.axes._subplots.AxesSubplot at 0x7fcb2d2a8a20>"
      ]
     },
     "execution_count": 14,
     "metadata": {},
     "output_type": "execute_result"
    },
    {
     "data": {
      "image/png": "[encoded data removed]",
      "text/plain": [
       "<matplotlib.figure.Figure at 0x7fcb2d27ff98>"
      ]
     },
     "metadata": {},
     "output_type": "display_data"
    }
   ],
   "source": [
    "recent_grads.plot(x='Full_time', y='Median', kind='scatter', figsize=(10,10))"
   ]
  },
  {
   "cell_type": "code",
   "execution_count": 15,
   "metadata": {
    "collapsed": false
   },
   "outputs": [
    {
     "data": {
      "text/plain": [
       "<matplotlib.axes._subplots.AxesSubplot at 0x7fcb2b069048>"
      ]
     },
     "execution_count": 15,
     "metadata": {},
     "output_type": "execute_result"
    },
    {
     "data": {
      "image/png": "[encoded data removed]",
      "text/plain": [
       "<matplotlib.figure.Figure at 0x7fcb2d251da0>"
      ]
     },
     "metadata": {},
     "output_type": "display_data"
    }
   ],
   "source": [
    "recent_grads.plot(x='ShareWomen', y='Unemployment_rate', kind='scatter', figsize=(10,10))"
   ]
  },
  {
   "cell_type": "code",
   "execution_count": 16,
   "metadata": {
    "collapsed": false
   },
   "outputs": [
    {
     "data": {
      "text/plain": [
       "<matplotlib.axes._subplots.AxesSubplot at 0x7fcb2b107588>"
      ]
     },
     "execution_count": 16,
     "metadata": {},
     "output_type": "execute_result"
    },
    {
     "data": {
      "image/png": "[encoded data removed]",
      "text/plain": [
       "<matplotlib.figure.Figure at 0x7fcb2b139160>"
      ]
     },
     "metadata": {},
     "output_type": "display_data"
    }
   ],
   "source": [
    "recent_grads.plot(x='Men', y='Median', kind='scatter', figsize=(5,10))"
   ]
  },
  {
   "cell_type": "code",
   "execution_count": 17,
   "metadata": {
    "collapsed": false
   },
   "outputs": [
    {
     "data": {
      "text/plain": [
       "<matplotlib.axes._subplots.AxesSubplot at 0x7fcb2d251cf8>"
      ]
     },
     "execution_count": 17,
     "metadata": {},
     "output_type": "execute_result"
    },
    {
     "data": {
      "image/png": "[encoded data removed]",
      "text/plain": [
       "<matplotlib.figure.Figure at 0x7fcb2afd6208>"
      ]
     },
     "metadata": {},
     "output_type": "display_data"
    }
   ],
   "source": [
    "recent_grads.plot(x='Women', y='Median', kind='scatter', figsize=(5,10))"
   ]
  },
  {
   "cell_type": "code",
   "execution_count": 18,
   "metadata": {
    "collapsed": false
   },
   "outputs": [
    {
     "ename": "NameError",
     "evalue": "name 'ax' is not defined",
     "output_type": "error",
     "traceback": [
      "\u001b[1;31m\u001b[0m",
      "\u001b[1;31mNameError\u001b[0mTraceback (most recent call last)",
      "\u001b[1;32m<ipython-input-18-a27d276891ba>\u001b[0m in \u001b[0;36m<module>\u001b[1;34m()\u001b[0m\n\u001b[0;32m      1\u001b[0m \u001b[0max1\u001b[0m \u001b[1;33m=\u001b[0m \u001b[0mrecent_grads\u001b[0m\u001b[1;33m[\u001b[0m\u001b[1;34m'Sample_size'\u001b[0m\u001b[1;33m]\u001b[0m\u001b[1;33m.\u001b[0m\u001b[0mhist\u001b[0m\u001b[1;33m(\u001b[0m\u001b[0mbins\u001b[0m\u001b[1;33m=\u001b[0m\u001b[1;36m20\u001b[0m\u001b[1;33m,\u001b[0m \u001b[0mrange\u001b[0m\u001b[1;33m=\u001b[0m\u001b[1;33m(\u001b[0m\u001b[1;36m0\u001b[0m\u001b[1;33m,\u001b[0m\u001b[1;36m5000\u001b[0m\u001b[1;33m)\u001b[0m\u001b[1;33m)\u001b[0m\u001b[1;33m\u001b[0m\u001b[0m\n\u001b[1;32m----> 2\u001b[1;33m \u001b[0max\u001b[0m\u001b[1;33m.\u001b[0m\u001b[0mset_xlabel\u001b[0m\u001b[1;33m(\u001b[0m\u001b[1;34m'Sample'\u001b[0m\u001b[1;33m)\u001b[0m\u001b[1;33m\u001b[0m\u001b[0m\n\u001b[0m",
      "\u001b[1;31mNameError\u001b[0m: name 'ax' is not defined"
     ]
    },
    {
     "data": {
      "image/png": "[encoded data removed]",
      "text/plain": [
       "<matplotlib.figure.Figure at 0x7fcb2af88b00>"
      ]
     },
     "metadata": {},
     "output_type": "display_data"
    }
   ],
   "source": [
    "ax1 = recent_grads['Sample_size'].hist(bins=20, range=(0,5000))\n",
    "ax.set_xlabel('Sample')"
   ]
  },
  {
   "cell_type": "code",
   "execution_count": null,
   "metadata": {
    "collapsed": false
   },
   "outputs": [],
   "source": [
    "ax2 = recent_grads['Median'].hist(bins=9, range=(0,80000))\n",
    "ax2.set_xlabel('Median')"
   ]
  },
  {
   "cell_type": "code",
   "execution_count": null,
   "metadata": {
    "collapsed": false
   },
   "outputs": [],
   "source": [
    "ax3 = recent_grads['Employed'].hist(bins=7, range=(0,35000))\n",
    "ax3.set_xlabel('Employed')\n"
   ]
  },
  {
   "cell_type": "code",
   "execution_count": null,
   "metadata": {
    "collapsed": false
   },
   "outputs": [],
   "source": [
    "maxFull = recent_grads.sort_values(by='Full_time', ascending=False).iloc[0].loc['Full_time']"
   ]
  },
  {
   "cell_type": "code",
   "execution_count": null,
   "metadata": {
    "collapsed": false
   },
   "outputs": [],
   "source": [
    "ax4 = recent_grads['Full_time'].hist(bins=(maxFull/50000).astype(int), range=(0,maxFull))\n",
    "ax4.set_xlabel('Full time')"
   ]
  },
  {
   "cell_type": "code",
   "execution_count": null,
   "metadata": {
    "collapsed": false
   },
   "outputs": [],
   "source": [
    "ax5 = recent_grads['ShareWomen'].hist(bins=5)\n",
    "ax5.set_xlabel('Women')"
   ]
  },
  {
   "cell_type": "code",
   "execution_count": null,
   "metadata": {
    "collapsed": false
   },
   "outputs": [],
   "source": [
    "ax6 = recent_grads['Unemployment_rate'].hist(bins=9)\n",
    "ax6.set_xlabel('Rate')"
   ]
  },
  {
   "cell_type": "code",
   "execution_count": null,
   "metadata": {
    "collapsed": false
   },
   "outputs": [],
   "source": [
    "ax7 = recent_grads['Men'].hist(bins=9)\n",
    "ax7.set_xlabel('Geezers')"
   ]
  },
  {
   "cell_type": "code",
   "execution_count": null,
   "metadata": {
    "collapsed": true
   },
   "outputs": [],
   "source": [
    "from pandas.plotting import scatter_matrix"
   ]
  },
  {
   "cell_type": "code",
   "execution_count": null,
   "metadata": {
    "collapsed": false
   },
   "outputs": [],
   "source": [
    "scatter_matrix(recent_grads[['Sample_size', 'Median']], figsize=(10,10))"
   ]
  },
  {
   "cell_type": "code",
   "execution_count": null,
   "metadata": {
    "collapsed": false
   },
   "outputs": [],
   "source": [
    "scatter_matrix(recent_grads[['Sample_size', 'Median', 'Unemployment_rate']], figsize=(15,15))"
   ]
  },
  {
   "cell_type": "code",
   "execution_count": null,
   "metadata": {
    "collapsed": false
   },
   "outputs": [],
   "source": [
    "recent_grads[:5]['Women'].plot(kind='bar')"
   ]
  },
  {
   "cell_type": "code",
   "execution_count": null,
   "metadata": {
    "collapsed": false
   },
   "outputs": [],
   "source": [
    "recent_grads[:5].plot.bar(x='Major', y='Women')"
   ]
  },
  {
   "cell_type": "code",
   "execution_count": null,
   "metadata": {
    "collapsed": false
   },
   "outputs": [],
   "source": [
    "recent_grads[:10].plot.bar(x='Major', y='ShareWomen')"
   ]
  },
  {
   "cell_type": "code",
   "execution_count": null,
   "metadata": {
    "collapsed": false
   },
   "outputs": [],
   "source": [
    "recent_grads[-10:].plot.bar(x='Major', y='ShareWomen')"
   ]
  },
  {
   "cell_type": "code",
   "execution_count": null,
   "metadata": {
    "collapsed": false
   },
   "outputs": [],
   "source": [
    "recent_grads[:10].plot.bar(x='Major', y='Unemployment_rate')"
   ]
  },
  {
   "cell_type": "code",
   "execution_count": null,
   "metadata": {
    "collapsed": false
   },
   "outputs": [],
   "source": [
    "recent_grads[-10:].plot.bar(x='Major', y='Unemployment_rate')"
   ]
  },
  {
   "cell_type": "code",
   "execution_count": null,
   "metadata": {
    "collapsed": false
   },
   "outputs": [],
   "source": [
    "recent_grads.head()"
   ]
  },
  {
   "cell_type": "code",
   "execution_count": null,
   "metadata": {
    "collapsed": false
   },
   "outputs": [],
   "source": [
    "recent_grads[:5].plot.bar(x='Major', y=['Women', 'Men'])"
   ]
  },
  {
   "cell_type": "code",
   "execution_count": null,
   "metadata": {
    "collapsed": false
   },
   "outputs": [],
   "source": [
    "MenWomen = pd.DataFrame(recent_grads[['Men', 'Women']].values, index=recent_grads['Major'])"
   ]
  },
  {
   "cell_type": "code",
   "execution_count": null,
   "metadata": {
    "collapsed": false
   },
   "outputs": [],
   "source": [
    "MenWomen[:5].plot.bar()"
   ]
  },
  {
   "cell_type": "code",
   "execution_count": null,
   "metadata": {
    "collapsed": false
   },
   "outputs": [],
   "source": [
    "recent_grads[-5:].boxplot('Median')\n",
    "recent_grads[-5:].describe()\n",
    "    \n",
    "    "
   ]
  },
  {
   "cell_type": "code",
   "execution_count": null,
   "metadata": {
    "collapsed": false
   },
   "outputs": [],
   "source": [
    "recent_grads.boxplot(column=['Median'])"
   ]
  },
  {
   "cell_type": "code",
   "execution_count": null,
   "metadata": {
    "collapsed": false
   },
   "outputs": [],
   "source": [
    "recent_grads.boxplot(column=['Unemployment_rate'])"
   ]
  },
  {
   "cell_type": "code",
   "execution_count": null,
   "metadata": {
    "collapsed": false
   },
   "outputs": [],
   "source": [
    "recent_grads['Unemployment_rate'].describe()"
   ]
  },
  {
   "cell_type": "code",
   "execution_count": 31,
   "metadata": {
    "collapsed": false
   },
   "outputs": [
    {
     "data": {
      "image/png": "[encoded data removed]",
      "text/plain": [
       "<matplotlib.figure.Figure at 0x7fcb2ab797f0>"
      ]
     },
     "metadata": {},
     "output_type": "display_data"
    }
   ],
   "source": [
    "ax6 = recent_grads.plot.hexbin(x='Median', y='Full_time', gridsize=10,\n",
    "                              sharex=False, rot=90)"
   ]
  },
  {
   "cell_type": "code",
   "execution_count": 32,
   "metadata": {
    "collapsed": true
   },
   "outputs": [],
   "source": [
    "GenderMajor = recent_grads.pivot_table(index='Major', values=['Men','Women'], aggfunc=sum)"
   ]
  },
  {
   "cell_type": "code",
   "execution_count": 33,
   "metadata": {
    "collapsed": false
   },
   "outputs": [
    {
     "data": {
      "text/html": [
       "<div>\n",
       "<style scoped>\n",
       "    .dataframe tbody tr th:only-of-type {\n",
       "        vertical-align: middle;\n",
       "    }\n",
       "\n",
       "    .dataframe tbody tr th {\n",
       "        vertical-align: top;\n",
       "    }\n",
       "\n",
       "    .dataframe thead th {\n",
       "        text-align: right;\n",
       "    }\n",
       "</style>\n",
       "<table border=\"1\" class=\"dataframe\">\n",
       "  <thead>\n",
       "    <tr style=\"text-align: right;\">\n",
       "      <th></th>\n",
       "      <th>Men</th>\n",
       "      <th>Women</th>\n",
       "    </tr>\n",
       "    <tr>\n",
       "      <th>Major</th>\n",
       "      <th></th>\n",
       "      <th></th>\n",
       "    </tr>\n",
       "  </thead>\n",
       "  <tbody>\n",
       "    <tr>\n",
       "      <th>ACCOUNTING</th>\n",
       "      <td>94519.0</td>\n",
       "      <td>104114.0</td>\n",
       "    </tr>\n",
       "    <tr>\n",
       "      <th>ACTUARIAL SCIENCE</th>\n",
       "      <td>2110.0</td>\n",
       "      <td>1667.0</td>\n",
       "    </tr>\n",
       "    <tr>\n",
       "      <th>ADVERTISING AND PUBLIC RELATIONS</th>\n",
       "      <td>12862.0</td>\n",
       "      <td>40300.0</td>\n",
       "    </tr>\n",
       "    <tr>\n",
       "      <th>AEROSPACE ENGINEERING</th>\n",
       "      <td>12953.0</td>\n",
       "      <td>2105.0</td>\n",
       "    </tr>\n",
       "    <tr>\n",
       "      <th>AGRICULTURAL ECONOMICS</th>\n",
       "      <td>1749.0</td>\n",
       "      <td>690.0</td>\n",
       "    </tr>\n",
       "    <tr>\n",
       "      <th>AGRICULTURE PRODUCTION AND MANAGEMENT</th>\n",
       "      <td>9658.0</td>\n",
       "      <td>4582.0</td>\n",
       "    </tr>\n",
       "    <tr>\n",
       "      <th>ANIMAL SCIENCES</th>\n",
       "      <td>5347.0</td>\n",
       "      <td>16226.0</td>\n",
       "    </tr>\n",
       "    <tr>\n",
       "      <th>ANTHROPOLOGY AND ARCHEOLOGY</th>\n",
       "      <td>11376.0</td>\n",
       "      <td>27468.0</td>\n",
       "    </tr>\n",
       "    <tr>\n",
       "      <th>APPLIED MATHEMATICS</th>\n",
       "      <td>2794.0</td>\n",
       "      <td>2145.0</td>\n",
       "    </tr>\n",
       "    <tr>\n",
       "      <th>ARCHITECTURAL ENGINEERING</th>\n",
       "      <td>1835.0</td>\n",
       "      <td>990.0</td>\n",
       "    </tr>\n",
       "    <tr>\n",
       "      <th>ARCHITECTURE</th>\n",
       "      <td>25463.0</td>\n",
       "      <td>20957.0</td>\n",
       "    </tr>\n",
       "    <tr>\n",
       "      <th>AREA ETHNIC AND CIVILIZATION STUDIES</th>\n",
       "      <td>8739.0</td>\n",
       "      <td>22456.0</td>\n",
       "    </tr>\n",
       "    <tr>\n",
       "      <th>ART AND MUSIC EDUCATION</th>\n",
       "      <td>10732.0</td>\n",
       "      <td>23449.0</td>\n",
       "    </tr>\n",
       "    <tr>\n",
       "      <th>ART HISTORY AND CRITICISM</th>\n",
       "      <td>3240.0</td>\n",
       "      <td>17790.0</td>\n",
       "    </tr>\n",
       "    <tr>\n",
       "      <th>ASTRONOMY AND ASTROPHYSICS</th>\n",
       "      <td>832.0</td>\n",
       "      <td>960.0</td>\n",
       "    </tr>\n",
       "    <tr>\n",
       "      <th>ATMOSPHERIC SCIENCES AND METEOROLOGY</th>\n",
       "      <td>2744.0</td>\n",
       "      <td>1299.0</td>\n",
       "    </tr>\n",
       "    <tr>\n",
       "      <th>BIOCHEMICAL SCIENCES</th>\n",
       "      <td>18951.0</td>\n",
       "      <td>20156.0</td>\n",
       "    </tr>\n",
       "    <tr>\n",
       "      <th>BIOLOGICAL ENGINEERING</th>\n",
       "      <td>6062.0</td>\n",
       "      <td>2863.0</td>\n",
       "    </tr>\n",
       "    <tr>\n",
       "      <th>BIOLOGY</th>\n",
       "      <td>111762.0</td>\n",
       "      <td>168947.0</td>\n",
       "    </tr>\n",
       "    <tr>\n",
       "      <th>BIOMEDICAL ENGINEERING</th>\n",
       "      <td>8407.0</td>\n",
       "      <td>6548.0</td>\n",
       "    </tr>\n",
       "    <tr>\n",
       "      <th>BOTANY</th>\n",
       "      <td>626.0</td>\n",
       "      <td>703.0</td>\n",
       "    </tr>\n",
       "    <tr>\n",
       "      <th>BUSINESS ECONOMICS</th>\n",
       "      <td>7575.0</td>\n",
       "      <td>5727.0</td>\n",
       "    </tr>\n",
       "    <tr>\n",
       "      <th>BUSINESS MANAGEMENT AND ADMINISTRATION</th>\n",
       "      <td>173809.0</td>\n",
       "      <td>156118.0</td>\n",
       "    </tr>\n",
       "    <tr>\n",
       "      <th>CHEMICAL ENGINEERING</th>\n",
       "      <td>21239.0</td>\n",
       "      <td>11021.0</td>\n",
       "    </tr>\n",
       "    <tr>\n",
       "      <th>CHEMISTRY</th>\n",
       "      <td>32923.0</td>\n",
       "      <td>33607.0</td>\n",
       "    </tr>\n",
       "    <tr>\n",
       "      <th>CIVIL ENGINEERING</th>\n",
       "      <td>41081.0</td>\n",
       "      <td>12072.0</td>\n",
       "    </tr>\n",
       "    <tr>\n",
       "      <th>CLINICAL PSYCHOLOGY</th>\n",
       "      <td>568.0</td>\n",
       "      <td>2270.0</td>\n",
       "    </tr>\n",
       "    <tr>\n",
       "      <th>COGNITIVE SCIENCE AND BIOPSYCHOLOGY</th>\n",
       "      <td>1667.0</td>\n",
       "      <td>2164.0</td>\n",
       "    </tr>\n",
       "    <tr>\n",
       "      <th>COMMERCIAL ART AND GRAPHIC DESIGN</th>\n",
       "      <td>32041.0</td>\n",
       "      <td>71439.0</td>\n",
       "    </tr>\n",
       "    <tr>\n",
       "      <th>COMMUNICATION DISORDERS SCIENCES AND SERVICES</th>\n",
       "      <td>1225.0</td>\n",
       "      <td>37054.0</td>\n",
       "    </tr>\n",
       "    <tr>\n",
       "      <th>...</th>\n",
       "      <td>...</td>\n",
       "      <td>...</td>\n",
       "    </tr>\n",
       "    <tr>\n",
       "      <th>PHILOSOPHY AND RELIGIOUS STUDIES</th>\n",
       "      <td>31967.0</td>\n",
       "      <td>22847.0</td>\n",
       "    </tr>\n",
       "    <tr>\n",
       "      <th>PHYSICAL AND HEALTH EDUCATION TEACHING</th>\n",
       "      <td>15670.0</td>\n",
       "      <td>12543.0</td>\n",
       "    </tr>\n",
       "    <tr>\n",
       "      <th>PHYSICAL FITNESS PARKS RECREATION AND LEISURE</th>\n",
       "      <td>62181.0</td>\n",
       "      <td>62893.0</td>\n",
       "    </tr>\n",
       "    <tr>\n",
       "      <th>PHYSICAL SCIENCES</th>\n",
       "      <td>894.0</td>\n",
       "      <td>542.0</td>\n",
       "    </tr>\n",
       "    <tr>\n",
       "      <th>PHYSICS</th>\n",
       "      <td>23080.0</td>\n",
       "      <td>9062.0</td>\n",
       "    </tr>\n",
       "    <tr>\n",
       "      <th>PHYSIOLOGY</th>\n",
       "      <td>8422.0</td>\n",
       "      <td>13638.0</td>\n",
       "    </tr>\n",
       "    <tr>\n",
       "      <th>PLANT SCIENCE AND AGRONOMY</th>\n",
       "      <td>4897.0</td>\n",
       "      <td>2519.0</td>\n",
       "    </tr>\n",
       "    <tr>\n",
       "      <th>POLITICAL SCIENCE AND GOVERNMENT</th>\n",
       "      <td>93880.0</td>\n",
       "      <td>88741.0</td>\n",
       "    </tr>\n",
       "    <tr>\n",
       "      <th>PRE-LAW AND LEGAL STUDIES</th>\n",
       "      <td>4435.0</td>\n",
       "      <td>9093.0</td>\n",
       "    </tr>\n",
       "    <tr>\n",
       "      <th>PSYCHOLOGY</th>\n",
       "      <td>86648.0</td>\n",
       "      <td>307087.0</td>\n",
       "    </tr>\n",
       "    <tr>\n",
       "      <th>PUBLIC ADMINISTRATION</th>\n",
       "      <td>2947.0</td>\n",
       "      <td>2682.0</td>\n",
       "    </tr>\n",
       "    <tr>\n",
       "      <th>PUBLIC POLICY</th>\n",
       "      <td>2639.0</td>\n",
       "      <td>3339.0</td>\n",
       "    </tr>\n",
       "    <tr>\n",
       "      <th>SCHOOL STUDENT COUNSELING</th>\n",
       "      <td>119.0</td>\n",
       "      <td>699.0</td>\n",
       "    </tr>\n",
       "    <tr>\n",
       "      <th>SCIENCE AND COMPUTER TEACHER EDUCATION</th>\n",
       "      <td>2049.0</td>\n",
       "      <td>4434.0</td>\n",
       "    </tr>\n",
       "    <tr>\n",
       "      <th>SECONDARY TEACHER EDUCATION</th>\n",
       "      <td>6820.0</td>\n",
       "      <td>10305.0</td>\n",
       "    </tr>\n",
       "    <tr>\n",
       "      <th>SOCIAL PSYCHOLOGY</th>\n",
       "      <td>413.0</td>\n",
       "      <td>973.0</td>\n",
       "    </tr>\n",
       "    <tr>\n",
       "      <th>SOCIAL SCIENCE OR HISTORY TEACHER EDUCATION</th>\n",
       "      <td>9950.0</td>\n",
       "      <td>10248.0</td>\n",
       "    </tr>\n",
       "    <tr>\n",
       "      <th>SOCIAL WORK</th>\n",
       "      <td>5137.0</td>\n",
       "      <td>48415.0</td>\n",
       "    </tr>\n",
       "    <tr>\n",
       "      <th>SOCIOLOGY</th>\n",
       "      <td>32510.0</td>\n",
       "      <td>82923.0</td>\n",
       "    </tr>\n",
       "    <tr>\n",
       "      <th>SOIL SCIENCE</th>\n",
       "      <td>476.0</td>\n",
       "      <td>209.0</td>\n",
       "    </tr>\n",
       "    <tr>\n",
       "      <th>SPECIAL NEEDS EDUCATION</th>\n",
       "      <td>2682.0</td>\n",
       "      <td>26057.0</td>\n",
       "    </tr>\n",
       "    <tr>\n",
       "      <th>STATISTICS AND DECISION SCIENCE</th>\n",
       "      <td>2960.0</td>\n",
       "      <td>3291.0</td>\n",
       "    </tr>\n",
       "    <tr>\n",
       "      <th>STUDIO ARTS</th>\n",
       "      <td>4754.0</td>\n",
       "      <td>12223.0</td>\n",
       "    </tr>\n",
       "    <tr>\n",
       "      <th>TEACHER EDUCATION: MULTIPLE LEVELS</th>\n",
       "      <td>2734.0</td>\n",
       "      <td>11709.0</td>\n",
       "    </tr>\n",
       "    <tr>\n",
       "      <th>THEOLOGY AND RELIGIOUS VOCATIONS</th>\n",
       "      <td>18616.0</td>\n",
       "      <td>11591.0</td>\n",
       "    </tr>\n",
       "    <tr>\n",
       "      <th>TRANSPORTATION SCIENCES AND TECHNOLOGIES</th>\n",
       "      <td>13257.0</td>\n",
       "      <td>1893.0</td>\n",
       "    </tr>\n",
       "    <tr>\n",
       "      <th>TREATMENT THERAPY PROFESSIONS</th>\n",
       "      <td>13487.0</td>\n",
       "      <td>35004.0</td>\n",
       "    </tr>\n",
       "    <tr>\n",
       "      <th>UNITED STATES HISTORY</th>\n",
       "      <td>1756.0</td>\n",
       "      <td>1323.0</td>\n",
       "    </tr>\n",
       "    <tr>\n",
       "      <th>VISUAL AND PERFORMING ARTS</th>\n",
       "      <td>4133.0</td>\n",
       "      <td>12117.0</td>\n",
       "    </tr>\n",
       "    <tr>\n",
       "      <th>ZOOLOGY</th>\n",
       "      <td>3050.0</td>\n",
       "      <td>5359.0</td>\n",
       "    </tr>\n",
       "  </tbody>\n",
       "</table>\n",
       "<p>172 rows × 2 columns</p>\n",
       "</div>"
      ],
      "text/plain": [
       "                                                    Men     Women\n",
       "Major                                                            \n",
       "ACCOUNTING                                      94519.0  104114.0\n",
       "ACTUARIAL SCIENCE                                2110.0    1667.0\n",
       "ADVERTISING AND PUBLIC RELATIONS                12862.0   40300.0\n",
       "AEROSPACE ENGINEERING                           12953.0    2105.0\n",
       "AGRICULTURAL ECONOMICS                           1749.0     690.0\n",
       "AGRICULTURE PRODUCTION AND MANAGEMENT            9658.0    4582.0\n",
       "ANIMAL SCIENCES                                  5347.0   16226.0\n",
       "ANTHROPOLOGY AND ARCHEOLOGY                     11376.0   27468.0\n",
       "APPLIED MATHEMATICS                              2794.0    2145.0\n",
       "ARCHITECTURAL ENGINEERING                        1835.0     990.0\n",
       "ARCHITECTURE                                    25463.0   20957.0\n",
       "AREA ETHNIC AND CIVILIZATION STUDIES             8739.0   22456.0\n",
       "ART AND MUSIC EDUCATION                         10732.0   23449.0\n",
       "ART HISTORY AND CRITICISM                        3240.0   17790.0\n",
       "ASTRONOMY AND ASTROPHYSICS                        832.0     960.0\n",
       "ATMOSPHERIC SCIENCES AND METEOROLOGY             2744.0    1299.0\n",
       "BIOCHEMICAL SCIENCES                            18951.0   20156.0\n",
       "BIOLOGICAL ENGINEERING                           6062.0    2863.0\n",
       "BIOLOGY                                        111762.0  168947.0\n",
       "BIOMEDICAL ENGINEERING                           8407.0    6548.0\n",
       "BOTANY                                            626.0     703.0\n",
       "BUSINESS ECONOMICS                               7575.0    5727.0\n",
       "BUSINESS MANAGEMENT AND ADMINISTRATION         173809.0  156118.0\n",
       "CHEMICAL ENGINEERING                            21239.0   11021.0\n",
       "CHEMISTRY                                       32923.0   33607.0\n",
       "CIVIL ENGINEERING                               41081.0   12072.0\n",
       "CLINICAL PSYCHOLOGY                               568.0    2270.0\n",
       "COGNITIVE SCIENCE AND BIOPSYCHOLOGY              1667.0    2164.0\n",
       "COMMERCIAL ART AND GRAPHIC DESIGN               32041.0   71439.0\n",
       "COMMUNICATION DISORDERS SCIENCES AND SERVICES    1225.0   37054.0\n",
       "...                                                 ...       ...\n",
       "PHILOSOPHY AND RELIGIOUS STUDIES                31967.0   22847.0\n",
       "PHYSICAL AND HEALTH EDUCATION TEACHING          15670.0   12543.0\n",
       "PHYSICAL FITNESS PARKS RECREATION AND LEISURE   62181.0   62893.0\n",
       "PHYSICAL SCIENCES                                 894.0     542.0\n",
       "PHYSICS                                         23080.0    9062.0\n",
       "PHYSIOLOGY                                       8422.0   13638.0\n",
       "PLANT SCIENCE AND AGRONOMY                       4897.0    2519.0\n",
       "POLITICAL SCIENCE AND GOVERNMENT                93880.0   88741.0\n",
       "PRE-LAW AND LEGAL STUDIES                        4435.0    9093.0\n",
       "PSYCHOLOGY                                      86648.0  307087.0\n",
       "PUBLIC ADMINISTRATION                            2947.0    2682.0\n",
       "PUBLIC POLICY                                    2639.0    3339.0\n",
       "SCHOOL STUDENT COUNSELING                         119.0     699.0\n",
       "SCIENCE AND COMPUTER TEACHER EDUCATION           2049.0    4434.0\n",
       "SECONDARY TEACHER EDUCATION                      6820.0   10305.0\n",
       "SOCIAL PSYCHOLOGY                                 413.0     973.0\n",
       "SOCIAL SCIENCE OR HISTORY TEACHER EDUCATION      9950.0   10248.0\n",
       "SOCIAL WORK                                      5137.0   48415.0\n",
       "SOCIOLOGY                                       32510.0   82923.0\n",
       "SOIL SCIENCE                                      476.0     209.0\n",
       "SPECIAL NEEDS EDUCATION                          2682.0   26057.0\n",
       "STATISTICS AND DECISION SCIENCE                  2960.0    3291.0\n",
       "STUDIO ARTS                                      4754.0   12223.0\n",
       "TEACHER EDUCATION: MULTIPLE LEVELS               2734.0   11709.0\n",
       "THEOLOGY AND RELIGIOUS VOCATIONS                18616.0   11591.0\n",
       "TRANSPORTATION SCIENCES AND TECHNOLOGIES        13257.0    1893.0\n",
       "TREATMENT THERAPY PROFESSIONS                   13487.0   35004.0\n",
       "UNITED STATES HISTORY                            1756.0    1323.0\n",
       "VISUAL AND PERFORMING ARTS                       4133.0   12117.0\n",
       "ZOOLOGY                                          3050.0    5359.0\n",
       "\n",
       "[172 rows x 2 columns]"
      ]
     },
     "execution_count": 33,
     "metadata": {},
     "output_type": "execute_result"
    }
   ],
   "source": [
    "GenderMajor"
   ]
  },
  {
   "cell_type": "code",
   "execution_count": 28,
   "metadata": {
    "collapsed": false
   },
   "outputs": [
    {
     "data": {
      "text/plain": [
       "<matplotlib.axes._subplots.AxesSubplot at 0x7fcb2aa1c080>"
      ]
     },
     "execution_count": 28,
     "metadata": {},
     "output_type": "execute_result"
    },
    {
     "data": {
      "image/png": "[encoded data removed]",
      "text/plain": [
       "<matplotlib.figure.Figure at 0x7fcb2aa64668>"
      ]
     },
     "metadata": {},
     "output_type": "display_data"
    }
   ],
   "source": [
    "recent_grads.plot.hexbin(x='ShareWomen', y='Unemployment_rate',\n",
    "                         gridsize=10, sharex=False)"
   ]
  },
  {
   "cell_type": "code",
   "execution_count": 47,
   "metadata": {
    "collapsed": false
   },
   "outputs": [
    {
     "data": {
      "text/plain": [
       "count    172.0\n",
       "mean       1.0\n",
       "std        0.0\n",
       "min        1.0\n",
       "25%        1.0\n",
       "50%        1.0\n",
       "75%        1.0\n",
       "max        1.0\n",
       "Name: Major, dtype: float64"
      ]
     },
     "execution_count": 47,
     "metadata": {},
     "output_type": "execute_result"
    }
   ],
   "source": [
    "recent_grads['Major'].value_counts()"
   ]
  },
  {
   "cell_type": "code",
   "execution_count": 48,
   "metadata": {
    "collapsed": false
   },
   "outputs": [
    {
     "data": {
      "text/html": [
       "<div>\n",
       "<style scoped>\n",
       "    .dataframe tbody tr th:only-of-type {\n",
       "        vertical-align: middle;\n",
       "    }\n",
       "\n",
       "    .dataframe tbody tr th {\n",
       "        vertical-align: top;\n",
       "    }\n",
       "\n",
       "    .dataframe thead th {\n",
       "        text-align: right;\n",
       "    }\n",
       "</style>\n",
       "<table border=\"1\" class=\"dataframe\">\n",
       "  <thead>\n",
       "    <tr style=\"text-align: right;\">\n",
       "      <th></th>\n",
       "      <th>Rank</th>\n",
       "      <th>Major_code</th>\n",
       "      <th>Major</th>\n",
       "      <th>Total</th>\n",
       "      <th>Men</th>\n",
       "      <th>Women</th>\n",
       "      <th>Major_category</th>\n",
       "      <th>ShareWomen</th>\n",
       "      <th>Sample_size</th>\n",
       "      <th>Employed</th>\n",
       "      <th>...</th>\n",
       "      <th>Part_time</th>\n",
       "      <th>Full_time_year_round</th>\n",
       "      <th>Unemployed</th>\n",
       "      <th>Unemployment_rate</th>\n",
       "      <th>Median</th>\n",
       "      <th>P25th</th>\n",
       "      <th>P75th</th>\n",
       "      <th>College_jobs</th>\n",
       "      <th>Non_college_jobs</th>\n",
       "      <th>Low_wage_jobs</th>\n",
       "    </tr>\n",
       "  </thead>\n",
       "  <tbody>\n",
       "    <tr>\n",
       "      <th>0</th>\n",
       "      <td>1</td>\n",
       "      <td>2419</td>\n",
       "      <td>PETROLEUM ENGINEERING</td>\n",
       "      <td>2339.0</td>\n",
       "      <td>2057.0</td>\n",
       "      <td>282.0</td>\n",
       "      <td>Engineering</td>\n",
       "      <td>0.120564</td>\n",
       "      <td>36</td>\n",
       "      <td>1976</td>\n",
       "      <td>...</td>\n",
       "      <td>270</td>\n",
       "      <td>1207</td>\n",
       "      <td>37</td>\n",
       "      <td>0.018381</td>\n",
       "      <td>110000</td>\n",
       "      <td>95000</td>\n",
       "      <td>125000</td>\n",
       "      <td>1534</td>\n",
       "      <td>364</td>\n",
       "      <td>193</td>\n",
       "    </tr>\n",
       "    <tr>\n",
       "      <th>1</th>\n",
       "      <td>2</td>\n",
       "      <td>2416</td>\n",
       "      <td>MINING AND MINERAL ENGINEERING</td>\n",
       "      <td>756.0</td>\n",
       "      <td>679.0</td>\n",
       "      <td>77.0</td>\n",
       "      <td>Engineering</td>\n",
       "      <td>0.101852</td>\n",
       "      <td>7</td>\n",
       "      <td>640</td>\n",
       "      <td>...</td>\n",
       "      <td>170</td>\n",
       "      <td>388</td>\n",
       "      <td>85</td>\n",
       "      <td>0.117241</td>\n",
       "      <td>75000</td>\n",
       "      <td>55000</td>\n",
       "      <td>90000</td>\n",
       "      <td>350</td>\n",
       "      <td>257</td>\n",
       "      <td>50</td>\n",
       "    </tr>\n",
       "    <tr>\n",
       "      <th>2</th>\n",
       "      <td>3</td>\n",
       "      <td>2415</td>\n",
       "      <td>METALLURGICAL ENGINEERING</td>\n",
       "      <td>856.0</td>\n",
       "      <td>725.0</td>\n",
       "      <td>131.0</td>\n",
       "      <td>Engineering</td>\n",
       "      <td>0.153037</td>\n",
       "      <td>3</td>\n",
       "      <td>648</td>\n",
       "      <td>...</td>\n",
       "      <td>133</td>\n",
       "      <td>340</td>\n",
       "      <td>16</td>\n",
       "      <td>0.024096</td>\n",
       "      <td>73000</td>\n",
       "      <td>50000</td>\n",
       "      <td>105000</td>\n",
       "      <td>456</td>\n",
       "      <td>176</td>\n",
       "      <td>0</td>\n",
       "    </tr>\n",
       "    <tr>\n",
       "      <th>3</th>\n",
       "      <td>4</td>\n",
       "      <td>2417</td>\n",
       "      <td>NAVAL ARCHITECTURE AND MARINE ENGINEERING</td>\n",
       "      <td>1258.0</td>\n",
       "      <td>1123.0</td>\n",
       "      <td>135.0</td>\n",
       "      <td>Engineering</td>\n",
       "      <td>0.107313</td>\n",
       "      <td>16</td>\n",
       "      <td>758</td>\n",
       "      <td>...</td>\n",
       "      <td>150</td>\n",
       "      <td>692</td>\n",
       "      <td>40</td>\n",
       "      <td>0.050125</td>\n",
       "      <td>70000</td>\n",
       "      <td>43000</td>\n",
       "      <td>80000</td>\n",
       "      <td>529</td>\n",
       "      <td>102</td>\n",
       "      <td>0</td>\n",
       "    </tr>\n",
       "    <tr>\n",
       "      <th>4</th>\n",
       "      <td>5</td>\n",
       "      <td>2405</td>\n",
       "      <td>CHEMICAL ENGINEERING</td>\n",
       "      <td>32260.0</td>\n",
       "      <td>21239.0</td>\n",
       "      <td>11021.0</td>\n",
       "      <td>Engineering</td>\n",
       "      <td>0.341631</td>\n",
       "      <td>289</td>\n",
       "      <td>25694</td>\n",
       "      <td>...</td>\n",
       "      <td>5180</td>\n",
       "      <td>16697</td>\n",
       "      <td>1672</td>\n",
       "      <td>0.061098</td>\n",
       "      <td>65000</td>\n",
       "      <td>50000</td>\n",
       "      <td>75000</td>\n",
       "      <td>18314</td>\n",
       "      <td>4440</td>\n",
       "      <td>972</td>\n",
       "    </tr>\n",
       "  </tbody>\n",
       "</table>\n",
       "<p>5 rows × 21 columns</p>\n",
       "</div>"
      ],
      "text/plain": [
       "   Rank  Major_code                                      Major    Total  \\\n",
       "0     1        2419                      PETROLEUM ENGINEERING   2339.0   \n",
       "1     2        2416             MINING AND MINERAL ENGINEERING    756.0   \n",
       "2     3        2415                  METALLURGICAL ENGINEERING    856.0   \n",
       "3     4        2417  NAVAL ARCHITECTURE AND MARINE ENGINEERING   1258.0   \n",
       "4     5        2405                       CHEMICAL ENGINEERING  32260.0   \n",
       "\n",
       "       Men    Women Major_category  ShareWomen  Sample_size  Employed  \\\n",
       "0   2057.0    282.0    Engineering    0.120564           36      1976   \n",
       "1    679.0     77.0    Engineering    0.101852            7       640   \n",
       "2    725.0    131.0    Engineering    0.153037            3       648   \n",
       "3   1123.0    135.0    Engineering    0.107313           16       758   \n",
       "4  21239.0  11021.0    Engineering    0.341631          289     25694   \n",
       "\n",
       "       ...        Part_time  Full_time_year_round  Unemployed  \\\n",
       "0      ...              270                  1207          37   \n",
       "1      ...              170                   388          85   \n",
       "2      ...              133                   340          16   \n",
       "3      ...              150                   692          40   \n",
       "4      ...             5180                 16697        1672   \n",
       "\n",
       "   Unemployment_rate  Median  P25th   P75th  College_jobs  Non_college_jobs  \\\n",
       "0           0.018381  110000  95000  125000          1534               364   \n",
       "1           0.117241   75000  55000   90000           350               257   \n",
       "2           0.024096   73000  50000  105000           456               176   \n",
       "3           0.050125   70000  43000   80000           529               102   \n",
       "4           0.061098   65000  50000   75000         18314              4440   \n",
       "\n",
       "   Low_wage_jobs  \n",
       "0            193  \n",
       "1             50  \n",
       "2              0  \n",
       "3              0  \n",
       "4            972  \n",
       "\n",
       "[5 rows x 21 columns]"
      ]
     },
     "execution_count": 48,
     "metadata": {},
     "output_type": "execute_result"
    }
   ],
   "source": [
    "recent_grads.head()"
   ]
  },
  {
   "cell_type": "code",
   "execution_count": 54,
   "metadata": {
    "collapsed": false
   },
   "outputs": [],
   "source": [
    "import numpy as np\n",
    "tbl = recent_grads.pivot_table(index='Major_category', \n",
    "                               values=['Men','Women'])"
   ]
  },
  {
   "cell_type": "code",
   "execution_count": 55,
   "metadata": {
    "collapsed": false
   },
   "outputs": [
    {
     "data": {
      "text/html": [
       "<div>\n",
       "<style scoped>\n",
       "    .dataframe tbody tr th:only-of-type {\n",
       "        vertical-align: middle;\n",
       "    }\n",
       "\n",
       "    .dataframe tbody tr th {\n",
       "        vertical-align: top;\n",
       "    }\n",
       "\n",
       "    .dataframe thead th {\n",
       "        text-align: right;\n",
       "    }\n",
       "</style>\n",
       "<table border=\"1\" class=\"dataframe\">\n",
       "  <thead>\n",
       "    <tr style=\"text-align: right;\">\n",
       "      <th></th>\n",
       "      <th>Men</th>\n",
       "      <th>Women</th>\n",
       "    </tr>\n",
       "    <tr>\n",
       "      <th>Major_category</th>\n",
       "      <th></th>\n",
       "      <th></th>\n",
       "    </tr>\n",
       "  </thead>\n",
       "  <tbody>\n",
       "    <tr>\n",
       "      <th>Agriculture &amp; Natural Resources</th>\n",
       "      <td>4484.111111</td>\n",
       "      <td>3918.111111</td>\n",
       "    </tr>\n",
       "    <tr>\n",
       "      <th>Arts</th>\n",
       "      <td>16798.750000</td>\n",
       "      <td>27842.500000</td>\n",
       "    </tr>\n",
       "    <tr>\n",
       "      <th>Biology &amp; Life Science</th>\n",
       "      <td>13208.500000</td>\n",
       "      <td>19210.214286</td>\n",
       "    </tr>\n",
       "    <tr>\n",
       "      <th>Business</th>\n",
       "      <td>51373.230769</td>\n",
       "      <td>48809.538462</td>\n",
       "    </tr>\n",
       "    <tr>\n",
       "      <th>Communications &amp; Journalism</th>\n",
       "      <td>32980.250000</td>\n",
       "      <td>65170.000000</td>\n",
       "    </tr>\n",
       "    <tr>\n",
       "      <th>Computers &amp; Mathematics</th>\n",
       "      <td>18975.000000</td>\n",
       "      <td>8207.545455</td>\n",
       "    </tr>\n",
       "    <tr>\n",
       "      <th>Education</th>\n",
       "      <td>6470.375000</td>\n",
       "      <td>28475.187500</td>\n",
       "    </tr>\n",
       "    <tr>\n",
       "      <th>Engineering</th>\n",
       "      <td>14079.551724</td>\n",
       "      <td>4457.793103</td>\n",
       "    </tr>\n",
       "    <tr>\n",
       "      <th>Health</th>\n",
       "      <td>6293.083333</td>\n",
       "      <td>32309.416667</td>\n",
       "    </tr>\n",
       "    <tr>\n",
       "      <th>Humanities &amp; Liberal Arts</th>\n",
       "      <td>18189.733333</td>\n",
       "      <td>29374.800000</td>\n",
       "    </tr>\n",
       "    <tr>\n",
       "      <th>Industrial Arts &amp; Consumer Services</th>\n",
       "      <td>14825.857143</td>\n",
       "      <td>18001.571429</td>\n",
       "    </tr>\n",
       "    <tr>\n",
       "      <th>Interdisciplinary</th>\n",
       "      <td>2817.000000</td>\n",
       "      <td>9479.000000</td>\n",
       "    </tr>\n",
       "    <tr>\n",
       "      <th>Law &amp; Public Policy</th>\n",
       "      <td>18225.800000</td>\n",
       "      <td>17595.600000</td>\n",
       "    </tr>\n",
       "    <tr>\n",
       "      <th>Physical Sciences</th>\n",
       "      <td>9539.000000</td>\n",
       "      <td>9008.900000</td>\n",
       "    </tr>\n",
       "    <tr>\n",
       "      <th>Psychology &amp; Social Work</th>\n",
       "      <td>10901.666667</td>\n",
       "      <td>42543.555556</td>\n",
       "    </tr>\n",
       "    <tr>\n",
       "      <th>Social Science</th>\n",
       "      <td>28537.111111</td>\n",
       "      <td>30348.000000</td>\n",
       "    </tr>\n",
       "  </tbody>\n",
       "</table>\n",
       "</div>"
      ],
      "text/plain": [
       "                                              Men         Women\n",
       "Major_category                                                 \n",
       "Agriculture & Natural Resources       4484.111111   3918.111111\n",
       "Arts                                 16798.750000  27842.500000\n",
       "Biology & Life Science               13208.500000  19210.214286\n",
       "Business                             51373.230769  48809.538462\n",
       "Communications & Journalism          32980.250000  65170.000000\n",
       "Computers & Mathematics              18975.000000   8207.545455\n",
       "Education                             6470.375000  28475.187500\n",
       "Engineering                          14079.551724   4457.793103\n",
       "Health                                6293.083333  32309.416667\n",
       "Humanities & Liberal Arts            18189.733333  29374.800000\n",
       "Industrial Arts & Consumer Services  14825.857143  18001.571429\n",
       "Interdisciplinary                     2817.000000   9479.000000\n",
       "Law & Public Policy                  18225.800000  17595.600000\n",
       "Physical Sciences                     9539.000000   9008.900000\n",
       "Psychology & Social Work             10901.666667  42543.555556\n",
       "Social Science                       28537.111111  30348.000000"
      ]
     },
     "execution_count": 55,
     "metadata": {},
     "output_type": "execute_result"
    }
   ],
   "source": [
    "tbl"
   ]
  },
  {
   "cell_type": "code",
   "execution_count": 56,
   "metadata": {
    "collapsed": true
   },
   "outputs": [],
   "source": [
    "import numpy as np\n",
    "tbl = recent_grads.pivot_table(index='Major_category', \n",
    "                               values=['Men','Women'], aggfunc=np.sum)"
   ]
  },
  {
   "cell_type": "code",
   "execution_count": 57,
   "metadata": {
    "collapsed": false
   },
   "outputs": [
    {
     "data": {
      "text/html": [
       "<div>\n",
       "<style scoped>\n",
       "    .dataframe tbody tr th:only-of-type {\n",
       "        vertical-align: middle;\n",
       "    }\n",
       "\n",
       "    .dataframe tbody tr th {\n",
       "        vertical-align: top;\n",
       "    }\n",
       "\n",
       "    .dataframe thead th {\n",
       "        text-align: right;\n",
       "    }\n",
       "</style>\n",
       "<table border=\"1\" class=\"dataframe\">\n",
       "  <thead>\n",
       "    <tr style=\"text-align: right;\">\n",
       "      <th></th>\n",
       "      <th>Men</th>\n",
       "      <th>Women</th>\n",
       "    </tr>\n",
       "    <tr>\n",
       "      <th>Major_category</th>\n",
       "      <th></th>\n",
       "      <th></th>\n",
       "    </tr>\n",
       "  </thead>\n",
       "  <tbody>\n",
       "    <tr>\n",
       "      <th>Agriculture &amp; Natural Resources</th>\n",
       "      <td>40357.0</td>\n",
       "      <td>35263.0</td>\n",
       "    </tr>\n",
       "    <tr>\n",
       "      <th>Arts</th>\n",
       "      <td>134390.0</td>\n",
       "      <td>222740.0</td>\n",
       "    </tr>\n",
       "    <tr>\n",
       "      <th>Biology &amp; Life Science</th>\n",
       "      <td>184919.0</td>\n",
       "      <td>268943.0</td>\n",
       "    </tr>\n",
       "    <tr>\n",
       "      <th>Business</th>\n",
       "      <td>667852.0</td>\n",
       "      <td>634524.0</td>\n",
       "    </tr>\n",
       "    <tr>\n",
       "      <th>Communications &amp; Journalism</th>\n",
       "      <td>131921.0</td>\n",
       "      <td>260680.0</td>\n",
       "    </tr>\n",
       "    <tr>\n",
       "      <th>Computers &amp; Mathematics</th>\n",
       "      <td>208725.0</td>\n",
       "      <td>90283.0</td>\n",
       "    </tr>\n",
       "    <tr>\n",
       "      <th>Education</th>\n",
       "      <td>103526.0</td>\n",
       "      <td>455603.0</td>\n",
       "    </tr>\n",
       "    <tr>\n",
       "      <th>Engineering</th>\n",
       "      <td>408307.0</td>\n",
       "      <td>129276.0</td>\n",
       "    </tr>\n",
       "    <tr>\n",
       "      <th>Health</th>\n",
       "      <td>75517.0</td>\n",
       "      <td>387713.0</td>\n",
       "    </tr>\n",
       "    <tr>\n",
       "      <th>Humanities &amp; Liberal Arts</th>\n",
       "      <td>272846.0</td>\n",
       "      <td>440622.0</td>\n",
       "    </tr>\n",
       "    <tr>\n",
       "      <th>Industrial Arts &amp; Consumer Services</th>\n",
       "      <td>103781.0</td>\n",
       "      <td>126011.0</td>\n",
       "    </tr>\n",
       "    <tr>\n",
       "      <th>Interdisciplinary</th>\n",
       "      <td>2817.0</td>\n",
       "      <td>9479.0</td>\n",
       "    </tr>\n",
       "    <tr>\n",
       "      <th>Law &amp; Public Policy</th>\n",
       "      <td>91129.0</td>\n",
       "      <td>87978.0</td>\n",
       "    </tr>\n",
       "    <tr>\n",
       "      <th>Physical Sciences</th>\n",
       "      <td>95390.0</td>\n",
       "      <td>90089.0</td>\n",
       "    </tr>\n",
       "    <tr>\n",
       "      <th>Psychology &amp; Social Work</th>\n",
       "      <td>98115.0</td>\n",
       "      <td>382892.0</td>\n",
       "    </tr>\n",
       "    <tr>\n",
       "      <th>Social Science</th>\n",
       "      <td>256834.0</td>\n",
       "      <td>273132.0</td>\n",
       "    </tr>\n",
       "  </tbody>\n",
       "</table>\n",
       "</div>"
      ],
      "text/plain": [
       "                                          Men     Women\n",
       "Major_category                                         \n",
       "Agriculture & Natural Resources       40357.0   35263.0\n",
       "Arts                                 134390.0  222740.0\n",
       "Biology & Life Science               184919.0  268943.0\n",
       "Business                             667852.0  634524.0\n",
       "Communications & Journalism          131921.0  260680.0\n",
       "Computers & Mathematics              208725.0   90283.0\n",
       "Education                            103526.0  455603.0\n",
       "Engineering                          408307.0  129276.0\n",
       "Health                                75517.0  387713.0\n",
       "Humanities & Liberal Arts            272846.0  440622.0\n",
       "Industrial Arts & Consumer Services  103781.0  126011.0\n",
       "Interdisciplinary                      2817.0    9479.0\n",
       "Law & Public Policy                   91129.0   87978.0\n",
       "Physical Sciences                     95390.0   90089.0\n",
       "Psychology & Social Work              98115.0  382892.0\n",
       "Social Science                       256834.0  273132.0"
      ]
     },
     "execution_count": 57,
     "metadata": {},
     "output_type": "execute_result"
    }
   ],
   "source": [
    "tbl"
   ]
  },
  {
   "cell_type": "code",
   "execution_count": 61,
   "metadata": {
    "collapsed": false
   },
   "outputs": [
    {
     "name": "stderr",
     "output_type": "stream",
     "text": [
      "/dataquest/system/env/python3/lib/python3.4/site-packages/pandas/plotting/_core.py:1716: UserWarning: Pandas doesn't allow columns to be created via a new attribute name - see https://pandas.pydata.org/pandas-docs/stable/indexing.html#attribute-access\n",
      "  series.name = label\n"
     ]
    },
    {
     "data": {
      "text/plain": [
       "<matplotlib.axes._subplots.AxesSubplot at 0x7fcb2aa3a080>"
      ]
     },
     "execution_count": 61,
     "metadata": {},
     "output_type": "execute_result"
    },
    {
     "data": {
      "image/png": "[encoded data removed]",
      "text/plain": [
       "<matplotlib.figure.Figure at 0x7fcb2ac99c50>"
      ]
     },
     "metadata": {},
     "output_type": "display_data"
    }
   ],
   "source": [
    "tbl.plot.bar(x=tbl.index, y=['Men', 'Women'])"
   ]
  },
  {
   "cell_type": "code",
   "execution_count": 93,
   "metadata": {
    "collapsed": false
   },
   "outputs": [],
   "source": [
    "reo = recent_grads.groupby('Major_category')"
   ]
  },
  {
   "cell_type": "code",
   "execution_count": 97,
   "metadata": {
    "collapsed": false
   },
   "outputs": [
    {
     "data": {
      "text/html": [
       "<div>\n",
       "<style scoped>\n",
       "    .dataframe tbody tr th:only-of-type {\n",
       "        vertical-align: middle;\n",
       "    }\n",
       "\n",
       "    .dataframe tbody tr th {\n",
       "        vertical-align: top;\n",
       "    }\n",
       "\n",
       "    .dataframe thead th {\n",
       "        text-align: right;\n",
       "    }\n",
       "</style>\n",
       "<table border=\"1\" class=\"dataframe\">\n",
       "  <thead>\n",
       "    <tr style=\"text-align: right;\">\n",
       "      <th></th>\n",
       "      <th>Women</th>\n",
       "      <th>Men</th>\n",
       "    </tr>\n",
       "    <tr>\n",
       "      <th>Major_category</th>\n",
       "      <th></th>\n",
       "      <th></th>\n",
       "    </tr>\n",
       "  </thead>\n",
       "  <tbody>\n",
       "    <tr>\n",
       "      <th>Agriculture &amp; Natural Resources</th>\n",
       "      <td>35263.0</td>\n",
       "      <td>40357.0</td>\n",
       "    </tr>\n",
       "    <tr>\n",
       "      <th>Arts</th>\n",
       "      <td>222740.0</td>\n",
       "      <td>134390.0</td>\n",
       "    </tr>\n",
       "    <tr>\n",
       "      <th>Biology &amp; Life Science</th>\n",
       "      <td>268943.0</td>\n",
       "      <td>184919.0</td>\n",
       "    </tr>\n",
       "    <tr>\n",
       "      <th>Business</th>\n",
       "      <td>634524.0</td>\n",
       "      <td>667852.0</td>\n",
       "    </tr>\n",
       "    <tr>\n",
       "      <th>Communications &amp; Journalism</th>\n",
       "      <td>260680.0</td>\n",
       "      <td>131921.0</td>\n",
       "    </tr>\n",
       "    <tr>\n",
       "      <th>Computers &amp; Mathematics</th>\n",
       "      <td>90283.0</td>\n",
       "      <td>208725.0</td>\n",
       "    </tr>\n",
       "    <tr>\n",
       "      <th>Education</th>\n",
       "      <td>455603.0</td>\n",
       "      <td>103526.0</td>\n",
       "    </tr>\n",
       "    <tr>\n",
       "      <th>Engineering</th>\n",
       "      <td>129276.0</td>\n",
       "      <td>408307.0</td>\n",
       "    </tr>\n",
       "    <tr>\n",
       "      <th>Health</th>\n",
       "      <td>387713.0</td>\n",
       "      <td>75517.0</td>\n",
       "    </tr>\n",
       "    <tr>\n",
       "      <th>Humanities &amp; Liberal Arts</th>\n",
       "      <td>440622.0</td>\n",
       "      <td>272846.0</td>\n",
       "    </tr>\n",
       "    <tr>\n",
       "      <th>Industrial Arts &amp; Consumer Services</th>\n",
       "      <td>126011.0</td>\n",
       "      <td>103781.0</td>\n",
       "    </tr>\n",
       "    <tr>\n",
       "      <th>Interdisciplinary</th>\n",
       "      <td>9479.0</td>\n",
       "      <td>2817.0</td>\n",
       "    </tr>\n",
       "    <tr>\n",
       "      <th>Law &amp; Public Policy</th>\n",
       "      <td>87978.0</td>\n",
       "      <td>91129.0</td>\n",
       "    </tr>\n",
       "    <tr>\n",
       "      <th>Physical Sciences</th>\n",
       "      <td>90089.0</td>\n",
       "      <td>95390.0</td>\n",
       "    </tr>\n",
       "    <tr>\n",
       "      <th>Psychology &amp; Social Work</th>\n",
       "      <td>382892.0</td>\n",
       "      <td>98115.0</td>\n",
       "    </tr>\n",
       "    <tr>\n",
       "      <th>Social Science</th>\n",
       "      <td>273132.0</td>\n",
       "      <td>256834.0</td>\n",
       "    </tr>\n",
       "  </tbody>\n",
       "</table>\n",
       "</div>"
      ],
      "text/plain": [
       "                                        Women       Men\n",
       "Major_category                                         \n",
       "Agriculture & Natural Resources       35263.0   40357.0\n",
       "Arts                                 222740.0  134390.0\n",
       "Biology & Life Science               268943.0  184919.0\n",
       "Business                             634524.0  667852.0\n",
       "Communications & Journalism          260680.0  131921.0\n",
       "Computers & Mathematics               90283.0  208725.0\n",
       "Education                            455603.0  103526.0\n",
       "Engineering                          129276.0  408307.0\n",
       "Health                               387713.0   75517.0\n",
       "Humanities & Liberal Arts            440622.0  272846.0\n",
       "Industrial Arts & Consumer Services  126011.0  103781.0\n",
       "Interdisciplinary                      9479.0    2817.0\n",
       "Law & Public Policy                   87978.0   91129.0\n",
       "Physical Sciences                     90089.0   95390.0\n",
       "Psychology & Social Work             382892.0   98115.0\n",
       "Social Science                       273132.0  256834.0"
      ]
     },
     "execution_count": 97,
     "metadata": {},
     "output_type": "execute_result"
    }
   ],
   "source": [
    "reo['Women', 'Men'].sum()"
   ]
  },
  {
   "cell_type": "code",
   "execution_count": 101,
   "metadata": {
    "collapsed": false
   },
   "outputs": [],
   "source": [
    "op = recent_grads[['Major_category', 'Major', 'Women', 'Men']].groupby('Major_category')"
   ]
  },
  {
   "cell_type": "code",
   "execution_count": 103,
   "metadata": {
    "collapsed": false
   },
   "outputs": [
    {
     "name": "stdout",
     "output_type": "stream",
     "text": [
      "Agriculture & Natural Resources\n",
      "                      Major_category                                  Major  \\\n",
      "63   Agriculture & Natural Resources  AGRICULTURE PRODUCTION AND MANAGEMENT   \n",
      "64   Agriculture & Natural Resources                    GENERAL AGRICULTURE   \n",
      "71   Agriculture & Natural Resources                 AGRICULTURAL ECONOMICS   \n",
      "107  Agriculture & Natural Resources           NATURAL RESOURCES MANAGEMENT   \n",
      "111  Agriculture & Natural Resources                               FORESTRY   \n",
      "112  Agriculture & Natural Resources                           SOIL SCIENCE   \n",
      "143  Agriculture & Natural Resources             PLANT SCIENCE AND AGRONOMY   \n",
      "152  Agriculture & Natural Resources                        ANIMAL SCIENCES   \n",
      "161  Agriculture & Natural Resources              MISCELLANEOUS AGRICULTURE   \n",
      "\n",
      "       Women     Men  \n",
      "63    4582.0  9658.0  \n",
      "64    4346.0  6053.0  \n",
      "71     690.0  1749.0  \n",
      "107   5156.0  8617.0  \n",
      "111    451.0  3156.0  \n",
      "112    209.0   476.0  \n",
      "143   2519.0  4897.0  \n",
      "152  16226.0  5347.0  \n",
      "161   1084.0   404.0  \n",
      "Arts\n",
      "    Major_category                              Major    Women      Men\n",
      "32            Arts            MISCELLANEOUS FINE ARTS   1370.0   1970.0\n",
      "95            Arts  COMMERCIAL ART AND GRAPHIC DESIGN  71439.0  32041.0\n",
      "141           Arts   FILM VIDEO AND PHOTOGRAPHIC ARTS  16404.0  22357.0\n",
      "146           Arts                              MUSIC  30724.0  29909.0\n",
      "149           Arts                          FINE ARTS  49654.0  24786.0\n",
      "153           Arts         VISUAL AND PERFORMING ARTS  12117.0   4133.0\n",
      "159           Arts                        STUDIO ARTS  12223.0   4754.0\n",
      "166           Arts             DRAMA AND THEATER ARTS  28809.0  14440.0\n",
      "Biology & Life Science\n",
      "             Major_category                                Major     Women  \\\n",
      "48   Biology & Life Science                         PHARMACOLOGY    1247.0   \n",
      "54   Biology & Life Science  COGNITIVE SCIENCE AND BIOPSYCHOLOGY    2164.0   \n",
      "61   Biology & Life Science                    MOLECULAR BIOLOGY   10874.0   \n",
      "67   Biology & Life Science                             GENETICS    1874.0   \n",
      "80   Biology & Life Science                         MICROBIOLOGY    8849.0   \n",
      "82   Biology & Life Science                 BIOCHEMICAL SCIENCES   20156.0   \n",
      "83   Biology & Life Science                               BOTANY     703.0   \n",
      "92   Biology & Life Science                ENVIRONMENTAL SCIENCE   15178.0   \n",
      "101  Biology & Life Science                           PHYSIOLOGY   13638.0   \n",
      "108  Biology & Life Science                         NEUROSCIENCE    8719.0   \n",
      "122  Biology & Life Science                MISCELLANEOUS BIOLOGY    5959.0   \n",
      "123  Biology & Life Science                              BIOLOGY  168947.0   \n",
      "132  Biology & Life Science                              ECOLOGY    5276.0   \n",
      "168  Biology & Life Science                              ZOOLOGY    5359.0   \n",
      "\n",
      "          Men  \n",
      "48      515.0  \n",
      "54     1667.0  \n",
      "61     7426.0  \n",
      "67     1761.0  \n",
      "80     6383.0  \n",
      "82    18951.0  \n",
      "83      626.0  \n",
      "92    10787.0  \n",
      "101    8422.0  \n",
      "108    4944.0  \n",
      "122    4747.0  \n",
      "123  111762.0  \n",
      "132    3878.0  \n",
      "168    3050.0  \n",
      "Business\n",
      "    Major_category                                            Major     Women  \\\n",
      "6         Business                                ACTUARIAL SCIENCE    1667.0   \n",
      "24        Business    MANAGEMENT INFORMATION SYSTEMS AND STATISTICS    5217.0   \n",
      "27        Business              OPERATIONS LOGISTICS AND E-COMMERCE    3811.0   \n",
      "35        Business                                          FINANCE   59476.0   \n",
      "37        Business                               BUSINESS ECONOMICS    5727.0   \n",
      "40        Business                                       ACCOUNTING  104114.0   \n",
      "57        Business                                 GENERAL BUSINESS  102352.0   \n",
      "59        Business                           INTERNATIONAL BUSINESS   15270.0   \n",
      "62        Business  MISCELLANEOUS BUSINESS & MEDICAL ADMINISTRATION    7662.0   \n",
      "76        Business           BUSINESS MANAGEMENT AND ADMINISTRATION  156118.0   \n",
      "77        Business                 MARKETING AND MARKETING RESEARCH  126354.0   \n",
      "86        Business         HUMAN RESOURCES AND PERSONNEL MANAGEMENT   18313.0   \n",
      "127       Business                           HOSPITALITY MANAGEMENT   28443.0   \n",
      "\n",
      "          Men  \n",
      "6      2110.0  \n",
      "24    13496.0  \n",
      "27     7921.0  \n",
      "35   115030.0  \n",
      "37     7575.0  \n",
      "40    94519.0  \n",
      "57   132238.0  \n",
      "59    10624.0  \n",
      "62    10285.0  \n",
      "76   173809.0  \n",
      "77    78857.0  \n",
      "86     6184.0  \n",
      "127   15204.0  \n",
      "Communications & Journalism\n",
      "                  Major_category                             Major     Women  \\\n",
      "93   Communications & Journalism                    COMMUNICATIONS  143377.0   \n",
      "96   Communications & Journalism                        JOURNALISM   48883.0   \n",
      "98   Communications & Journalism  ADVERTISING AND PUBLIC RELATIONS   40300.0   \n",
      "125  Communications & Journalism                        MASS MEDIA   28120.0   \n",
      "\n",
      "         Men  \n",
      "93   70619.0  \n",
      "96   23736.0  \n",
      "98   12862.0  \n",
      "125  24704.0  \n",
      "Computers & Mathematics\n",
      "              Major_category                                            Major  \\\n",
      "20   Computers & Mathematics                                 COMPUTER SCIENCE   \n",
      "41   Computers & Mathematics                                      MATHEMATICS   \n",
      "42   Computers & Mathematics                 COMPUTER AND INFORMATION SYSTEMS   \n",
      "45   Computers & Mathematics                             INFORMATION SCIENCES   \n",
      "46   Computers & Mathematics                  STATISTICS AND DECISION SCIENCE   \n",
      "47   Computers & Mathematics                              APPLIED MATHEMATICS   \n",
      "52   Computers & Mathematics                 MATHEMATICS AND COMPUTER SCIENCE   \n",
      "53   Computers & Mathematics         COMPUTER PROGRAMMING AND DATA PROCESSING   \n",
      "81   Computers & Mathematics  COMPUTER ADMINISTRATION MANAGEMENT AND SECURITY   \n",
      "84   Computers & Mathematics       COMPUTER NETWORKING AND TELECOMMUNICATIONS   \n",
      "105  Computers & Mathematics                       COMMUNICATION TECHNOLOGIES   \n",
      "\n",
      "       Women      Men  \n",
      "20   28576.0  99743.0  \n",
      "41   32441.0  39956.0  \n",
      "42    9306.0  27392.0  \n",
      "45    2908.0   9005.0  \n",
      "46    3291.0   2960.0  \n",
      "47    2145.0   2794.0  \n",
      "52     109.0    500.0  \n",
      "53    1122.0   3046.0  \n",
      "81    1459.0   6607.0  \n",
      "84    2322.0   5291.0  \n",
      "105   6604.0  11431.0  \n",
      "Education\n",
      "    Major_category                                        Major     Women  \\\n",
      "55       Education                    SCHOOL STUDENT COUNSELING     699.0   \n",
      "100      Education                      SPECIAL NEEDS EDUCATION   26057.0   \n",
      "113      Education                            GENERAL EDUCATION  116825.0   \n",
      "117      Education  SOCIAL SCIENCE OR HISTORY TEACHER EDUCATION   10248.0   \n",
      "119      Education                MATHEMATICS TEACHER EDUCATION   10365.0   \n",
      "120      Education   EDUCATIONAL ADMINISTRATION AND SUPERVISION     524.0   \n",
      "128      Education                 LANGUAGE AND DRAMA EDUCATION   26730.0   \n",
      "130      Education                      MISCELLANEOUS EDUCATION    6496.0   \n",
      "133      Education                  SECONDARY TEACHER EDUCATION   10305.0   \n",
      "136      Education                      ART AND MUSIC EDUCATION   23449.0   \n",
      "138      Education                         ELEMENTARY EDUCATION  157833.0   \n",
      "144      Education       SCIENCE AND COMPUTER TEACHER EDUCATION    4434.0   \n",
      "147      Education       PHYSICAL AND HEALTH EDUCATION TEACHING   12543.0   \n",
      "154      Education           TEACHER EDUCATION: MULTIPLE LEVELS   11709.0   \n",
      "164      Education                    EARLY CHILDHOOD EDUCATION   36422.0   \n",
      "172      Education                              LIBRARY SCIENCE     964.0   \n",
      "\n",
      "         Men  \n",
      "55     119.0  \n",
      "100   2682.0  \n",
      "113  26893.0  \n",
      "117   9950.0  \n",
      "119   3872.0  \n",
      "120    280.0  \n",
      "128   3741.0  \n",
      "130   3654.0  \n",
      "133   6820.0  \n",
      "136  10732.0  \n",
      "138  13029.0  \n",
      "144   2049.0  \n",
      "147  15670.0  \n",
      "154   2734.0  \n",
      "164   1167.0  \n",
      "172    134.0  \n",
      "Engineering\n",
      "   Major_category                                        Major    Women  \\\n",
      "0     Engineering                        PETROLEUM ENGINEERING    282.0   \n",
      "1     Engineering               MINING AND MINERAL ENGINEERING     77.0   \n",
      "2     Engineering                    METALLURGICAL ENGINEERING    131.0   \n",
      "3     Engineering    NAVAL ARCHITECTURE AND MARINE ENGINEERING    135.0   \n",
      "4     Engineering                         CHEMICAL ENGINEERING  11021.0   \n",
      "5     Engineering                          NUCLEAR ENGINEERING    373.0   \n",
      "8     Engineering                       MECHANICAL ENGINEERING  10907.0   \n",
      "9     Engineering                       ELECTRICAL ENGINEERING  16016.0   \n",
      "10    Engineering                         COMPUTER ENGINEERING   8284.0   \n",
      "11    Engineering                        AEROSPACE ENGINEERING   2105.0   \n",
      "12    Engineering                       BIOMEDICAL ENGINEERING   6548.0   \n",
      "13    Engineering                            MATERIALS SCIENCE   1330.0   \n",
      "14    Engineering    ENGINEERING MECHANICS PHYSICS AND SCIENCE    795.0   \n",
      "15    Engineering                       BIOLOGICAL ENGINEERING   2863.0   \n",
      "16    Engineering     INDUSTRIAL AND MANUFACTURING ENGINEERING   6515.0   \n",
      "17    Engineering                          GENERAL ENGINEERING  15469.0   \n",
      "18    Engineering                    ARCHITECTURAL ENGINEERING    990.0   \n",
      "22    Engineering            ELECTRICAL ENGINEERING TECHNOLOGY   3384.0   \n",
      "23    Engineering  MATERIALS ENGINEERING AND MATERIALS SCIENCE    973.0   \n",
      "25    Engineering                            CIVIL ENGINEERING  12072.0   \n",
      "28    Engineering                    MISCELLANEOUS ENGINEERING   1735.0   \n",
      "30    Engineering                    ENVIRONMENTAL ENGINEERING   1385.0   \n",
      "31    Engineering                     ENGINEERING TECHNOLOGIES    905.0   \n",
      "33    Engineering       GEOLOGICAL AND GEOPHYSICAL ENGINEERING    232.0   \n",
      "38    Engineering           INDUSTRIAL PRODUCTION TECHNOLOGIES   1154.0   \n",
      "50    Engineering        ENGINEERING AND INDUSTRIAL MANAGEMENT    506.0   \n",
      "58    Engineering                                 ARCHITECTURE  20957.0   \n",
      "65    Engineering       MISCELLANEOUS ENGINEERING TECHNOLOGIES   1761.0   \n",
      "66    Engineering  MECHANICAL ENGINEERING RELATED TECHNOLOGIES    371.0   \n",
      "\n",
      "        Men  \n",
      "0    2057.0  \n",
      "1     679.0  \n",
      "2     725.0  \n",
      "3    1123.0  \n",
      "4   21239.0  \n",
      "5    2200.0  \n",
      "8   80320.0  \n",
      "9   65511.0  \n",
      "10  33258.0  \n",
      "11  12953.0  \n",
      "12   8407.0  \n",
      "13   2949.0  \n",
      "14   3526.0  \n",
      "15   6062.0  \n",
      "16  12453.0  \n",
      "17  45683.0  \n",
      "18   1835.0  \n",
      "22   8181.0  \n",
      "23   2020.0  \n",
      "25  41081.0  \n",
      "28   7398.0  \n",
      "30   2662.0  \n",
      "31   2695.0  \n",
      "33    488.0  \n",
      "38   3477.0  \n",
      "50   2400.0  \n",
      "58  25463.0  \n",
      "65   7043.0  \n",
      "66   4419.0  \n",
      "Health\n",
      "    Major_category                                              Major  \\\n",
      "34          Health                                            NURSING   \n",
      "44          Health                   MEDICAL TECHNOLOGIES TECHNICIANS   \n",
      "51          Health                         MEDICAL ASSISTING SERVICES   \n",
      "60          Health  PHARMACY PHARMACEUTICAL SCIENCES AND ADMINISTR...   \n",
      "88          Health           MISCELLANEOUS HEALTH MEDICAL PROFESSIONS   \n",
      "103         Health                                 NUTRITION SCIENCES   \n",
      "104         Health         HEALTH AND MEDICAL ADMINISTRATIVE SERVICES   \n",
      "118         Health                        COMMUNITY AND PUBLIC HEALTH   \n",
      "121         Health            HEALTH AND MEDICAL PREPARATORY PROGRAMS   \n",
      "126         Health                      TREATMENT THERAPY PROFESSIONS   \n",
      "134         Health                GENERAL MEDICAL AND HEALTH SERVICES   \n",
      "163         Health      COMMUNICATION DISORDERS SCIENCES AND SERVICES   \n",
      "\n",
      "        Women      Men  \n",
      "34   187621.0  21773.0  \n",
      "44    11998.0   3916.0  \n",
      "51    10320.0    803.0  \n",
      "60    14854.0   8697.0  \n",
      "88    11797.0   1589.0  \n",
      "103   16346.0   2563.0  \n",
      "104   13843.0   4266.0  \n",
      "118   15632.0   4103.0  \n",
      "121    7219.0   5521.0  \n",
      "126   35004.0  13487.0  \n",
      "134   26025.0   7574.0  \n",
      "163   37054.0   1225.0  \n",
      "Humanities & Liberal Arts\n",
      "                Major_category  \\\n",
      "69   Humanities & Liberal Arts   \n",
      "99   Humanities & Liberal Arts   \n",
      "114  Humanities & Liberal Arts   \n",
      "115  Humanities & Liberal Arts   \n",
      "116  Humanities & Liberal Arts   \n",
      "129  Humanities & Liberal Arts   \n",
      "135  Humanities & Liberal Arts   \n",
      "137  Humanities & Liberal Arts   \n",
      "140  Humanities & Liberal Arts   \n",
      "148  Humanities & Liberal Arts   \n",
      "157  Humanities & Liberal Arts   \n",
      "158  Humanities & Liberal Arts   \n",
      "162  Humanities & Liberal Arts   \n",
      "165  Humanities & Liberal Arts   \n",
      "167  Humanities & Liberal Arts   \n",
      "\n",
      "                                                 Major     Women      Men  \n",
      "69                               UNITED STATES HISTORY    1323.0   1756.0  \n",
      "99                AREA ETHNIC AND CIVILIZATION STUDIES   22456.0   8739.0  \n",
      "114                                            HISTORY   63698.0  78253.0  \n",
      "115  FRENCH GERMAN LATIN AND OTHER COMMON FOREIGN L...   35411.0  12835.0  \n",
      "116            INTERCULTURAL AND INTERNATIONAL STUDIES   16075.0   8575.0  \n",
      "129  LINGUISTICS AND COMPARATIVE LANGUAGE AND LITER...   12185.0   4416.0  \n",
      "135                   PHILOSOPHY AND RELIGIOUS STUDIES   22847.0  31967.0  \n",
      "137                    ENGLISH LANGUAGE AND LITERATURE  136446.0  58227.0  \n",
      "140                                       LIBERAL ARTS   49030.0  22339.0  \n",
      "148                          ART HISTORY AND CRITICISM   17790.0   3240.0  \n",
      "157                                         HUMANITIES    4639.0   2013.0  \n",
      "158                   THEOLOGY AND RELIGIOUS VOCATIONS   11591.0  18616.0  \n",
      "162                        ANTHROPOLOGY AND ARCHEOLOGY   27468.0  11376.0  \n",
      "165                            OTHER FOREIGN LANGUAGES    7732.0   3472.0  \n",
      "167                           COMPOSITION AND RHETORIC   11931.0   7022.0  \n",
      "Industrial Arts & Consumer Services\n",
      "                          Major_category  \\\n",
      "26   Industrial Arts & Consumer Services   \n",
      "73   Industrial Arts & Consumer Services   \n",
      "75   Industrial Arts & Consumer Services   \n",
      "106  Industrial Arts & Consumer Services   \n",
      "139  Industrial Arts & Consumer Services   \n",
      "150  Industrial Arts & Consumer Services   \n",
      "160  Industrial Arts & Consumer Services   \n",
      "\n",
      "                                                 Major    Women      Men  \n",
      "26                               CONSTRUCTION SERVICES   1678.0  16820.0  \n",
      "73                               MILITARY TECHNOLOGIES      0.0    124.0  \n",
      "75   ELECTRICAL, MECHANICAL, AND PRECISION TECHNOLO...    566.0   1869.0  \n",
      "106           TRANSPORTATION SCIENCES AND TECHNOLOGIES   1893.0  13257.0  \n",
      "139      PHYSICAL FITNESS PARKS RECREATION AND LEISURE  62893.0  62181.0  \n",
      "150                       FAMILY AND CONSUMER SCIENCES  52835.0   5166.0  \n",
      "160             COSMETOLOGY SERVICES AND CULINARY ARTS   6146.0   4364.0  \n",
      "Interdisciplinary\n",
      "        Major_category                            Major   Women     Men\n",
      "109  Interdisciplinary  MULTI/INTERDISCIPLINARY STUDIES  9479.0  2817.0\n",
      "Law & Public Policy\n",
      "         Major_category                                 Major    Women  \\\n",
      "19  Law & Public Policy                       COURT REPORTING    271.0   \n",
      "29  Law & Public Policy                         PUBLIC POLICY   3339.0   \n",
      "87  Law & Public Policy             PRE-LAW AND LEGAL STUDIES   9093.0   \n",
      "89  Law & Public Policy                 PUBLIC ADMINISTRATION   2682.0   \n",
      "94  Law & Public Policy  CRIMINAL JUSTICE AND FIRE PROTECTION  72593.0   \n",
      "\n",
      "        Men  \n",
      "19    877.0  \n",
      "29   2639.0  \n",
      "87   4435.0  \n",
      "89   2947.0  \n",
      "94  80231.0  \n",
      "Physical Sciences\n",
      "        Major_category                                              Major  \\\n",
      "7    Physical Sciences                         ASTRONOMY AND ASTROPHYSICS   \n",
      "39   Physical Sciences  NUCLEAR, INDUSTRIAL RADIOLOGY, AND BIOLOGICAL ...   \n",
      "43   Physical Sciences                                            PHYSICS   \n",
      "49   Physical Sciences                                       OCEANOGRAPHY   \n",
      "72   Physical Sciences                                  PHYSICAL SCIENCES   \n",
      "74   Physical Sciences                                          CHEMISTRY   \n",
      "85   Physical Sciences                          GEOLOGY AND EARTH SCIENCE   \n",
      "90   Physical Sciences                                        GEOSCIENCES   \n",
      "97   Physical Sciences              MULTI-DISCIPLINARY OR GENERAL SCIENCE   \n",
      "110  Physical Sciences               ATMOSPHERIC SCIENCES AND METEOROLOGY   \n",
      "\n",
      "       Women      Men  \n",
      "7      960.0    832.0  \n",
      "39    1588.0    528.0  \n",
      "43    9062.0  23080.0  \n",
      "49    1666.0    752.0  \n",
      "72     542.0    894.0  \n",
      "74   33607.0  32923.0  \n",
      "85    5159.0   5813.0  \n",
      "90    1169.0    809.0  \n",
      "97   35037.0  27015.0  \n",
      "110   1299.0   2744.0  \n",
      "Psychology & Social Work\n",
      "               Major_category                                      Major  \\\n",
      "70   Psychology & Social Work   INDUSTRIAL AND ORGANIZATIONAL PSYCHOLOGY   \n",
      "91   Psychology & Social Work                          SOCIAL PSYCHOLOGY   \n",
      "145  Psychology & Social Work                                 PSYCHOLOGY   \n",
      "151  Psychology & Social Work                                SOCIAL WORK   \n",
      "155  Psychology & Social Work                   MISCELLANEOUS PSYCHOLOGY   \n",
      "156  Psychology & Social Work  HUMAN SERVICES AND COMMUNITY ORGANIZATION   \n",
      "169  Psychology & Social Work                     EDUCATIONAL PSYCHOLOGY   \n",
      "170  Psychology & Social Work                        CLINICAL PSYCHOLOGY   \n",
      "171  Psychology & Social Work                      COUNSELING PSYCHOLOGY   \n",
      "\n",
      "        Women      Men  \n",
      "70     1939.0   1075.0  \n",
      "91      973.0    413.0  \n",
      "145  307087.0  86648.0  \n",
      "151   48415.0   5137.0  \n",
      "155    7692.0   1936.0  \n",
      "156    8489.0    885.0  \n",
      "169    2332.0    522.0  \n",
      "170    2270.0    568.0  \n",
      "171    3695.0    931.0  \n",
      "Social Science\n",
      "     Major_category                              Major    Women      Men\n",
      "36   Social Science                          ECONOMICS  49498.0  89749.0\n",
      "56   Social Science            INTERNATIONAL RELATIONS  17842.0  10345.0\n",
      "68   Social Science      MISCELLANEOUS SOCIAL SCIENCES   1784.0   1499.0\n",
      "78   Social Science   POLITICAL SCIENCE AND GOVERNMENT  88741.0  93880.0\n",
      "79   Social Science                          GEOGRAPHY   7076.0  11404.0\n",
      "102  Social Science                        CRIMINOLOGY   9848.0  10031.0\n",
      "124  Social Science                          SOCIOLOGY  82923.0  32510.0\n",
      "131  Social Science  INTERDISCIPLINARY SOCIAL SCIENCES   7579.0   2337.0\n",
      "142  Social Science            GENERAL SOCIAL SCIENCES   7841.0   5079.0\n"
     ]
    }
   ],
   "source": [
    "for name_of_the_group, group in op:\n",
    "   print(name_of_the_group)\n",
    "   print(group)"
   ]
  },
  {
   "cell_type": "code",
   "execution_count": null,
   "metadata": {
    "collapsed": true
   },
   "outputs": [],
   "source": []
  }
 ],
 "metadata": {
  "kernelspec": {
   "display_name": "Python 3",
   "language": "python",
   "name": "python3"
  },
  "language_info": {
   "codemirror_mode": {
    "name": "ipython",
    "version": 3
   },
   "file_extension": ".py",
   "mimetype": "text/x-python",
   "name": "python",
   "nbconvert_exporter": "python",
   "pygments_lexer": "ipython3",
   "version": "3.4.3"
  }
 },
 "nbformat": 4,
 "nbformat_minor": 0
}
